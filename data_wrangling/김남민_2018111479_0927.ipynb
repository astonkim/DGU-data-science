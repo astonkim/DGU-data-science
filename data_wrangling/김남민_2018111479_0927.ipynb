{
 "cells": [
  {
   "cell_type": "markdown",
   "metadata": {},
   "source": [
    "# Data Wrangling 실습 3주차 (Inclass-assignment)\n",
    "### 2018111479 김남민"
   ]
  },
  {
   "cell_type": "markdown",
   "metadata": {},
   "source": [
    "## 1. 주어진 users.json 파일과 friendship_pairs.csv 파일을 읽어 아래의 포맷으로 각각 출력하시오. (단, id는 정수로)\n",
    "\n",
    "- user는 id와 name으로 구성되고, friendship_pairs는 id의 쌍으로 구성된 친구 데이터이다.\n",
    "\n",
    "- 예를 들어, (0,1)은 id가 0인 직원과 id가 1인 직원이 서로 친구라는 것을 의미한다."
   ]
  },
  {
   "cell_type": "code",
   "execution_count": 42,
   "metadata": {},
   "outputs": [
    {
     "name": "stdout",
     "output_type": "stream",
     "text": [
      "[{'id': 0, 'name': 'Hero'}, {'id': 1, 'name': 'Dunn'}, {'id': 2, 'name': 'Sue'}, {'id': 3, 'name': 'Chi'}, {'id': 4, 'name': 'Thor'}, {'id': 5, 'name': 'Clive'}, {'id': 6, 'name': 'Hicks'}, {'id': 7, 'name': 'Devin'}, {'id': 8, 'name': 'Kate'}, {'id': 9, 'name': 'Klein'}]\n",
      "[(0, 1), (0, 2), (1, 2), (1, 3), (2, 3), (3, 4), (4, 5), (5, 6), (5, 7), (6, 8), (7, 8), (8, 9)]\n"
     ]
    }
   ],
   "source": [
    "# users.json 파일을 읽어서, list와 dictionary 형태로 출력하시오. 단, id는 정수형으로.\n",
    "\n",
    "import json\n",
    "\n",
    "with open('users.json') as f:\n",
    "    users = json.load(f)\n",
    "    # id의 값은 정수형으로 출력\n",
    "    for user in users:\n",
    "        user['id'] = int(user['id'])\n",
    "    print(users)\n",
    "\n",
    "# friendship_pairs.csv 파일을 읽어서 list와 tuple들이 들어있는 형태로 출력하시오.\n",
    "\n",
    "import csv\n",
    "\n",
    "with open('friendship_pairs.csv') as f:\n",
    "    friendship_pairs = csv.reader(f)\n",
    "    friendship_pairs = [(int(row[0]), int(row[1])) for row in friendship_pairs]\n",
    "    friendship_pairs = [tuple(row) for row in friendship_pairs]\n",
    "    print(friendship_pairs)\n",
    "\n"
   ]
  },
  {
   "cell_type": "markdown",
   "metadata": {},
   "source": [
    "## 2. 이전 2개의 데이터를 활용하여 (liost, tuple, dictionary 연산 등으로) id를 key로 사용하고, 해당 id의 모든 친구 목록을 value로 구성한 friendship dictionary를 생성하시오. (그 출력 결과는 아래와 같다.)\n",
    "\n",
    "- 예를 들어, id가 1인 직원은 id가 0,2,3인 친구가 있다는 의미."
   ]
  },
  {
   "cell_type": "code",
   "execution_count": 43,
   "metadata": {},
   "outputs": [
    {
     "name": "stdout",
     "output_type": "stream",
     "text": [
      "{0: [1, 2], 1: [0, 2, 3], 2: [0, 1, 3], 3: [1, 2, 4], 4: [3, 5], 5: [4, 6, 7], 6: [5, 8], 7: [5, 8], 8: [6, 7, 9], 9: [8]}\n"
     ]
    }
   ],
   "source": [
    "# 이전의 두 데이터를 활용하여 (list, tuple, dictionary 연산 등으로) id를 key로 사용하고, value는 해당 id의 친구들의 모든 id들이 들어있는 list로 하는 dictionary를 만드시오.\n",
    "\n",
    "friendships = {user['id']: [] for user in users}\n",
    "for i, j in friendship_pairs:\n",
    "    friendships[i].append(j)\n",
    "    friendships[j].append(i)\n",
    "print(friendships)"
   ]
  }
 ],
 "metadata": {
  "kernelspec": {
   "display_name": "Python 3",
   "language": "python",
   "name": "python3"
  },
  "language_info": {
   "codemirror_mode": {
    "name": "ipython",
    "version": 3
   },
   "file_extension": ".py",
   "mimetype": "text/x-python",
   "name": "python",
   "nbconvert_exporter": "python",
   "pygments_lexer": "ipython3",
   "version": "3.11.3"
  },
  "orig_nbformat": 4
 },
 "nbformat": 4,
 "nbformat_minor": 2
}
