{
 "cells": [
  {
   "cell_type": "markdown",
   "metadata": {},
   "source": [
    "# Data Wrangling 실습 2주차 (Inclass-assignment)\n",
    "### 2018111479 김남민"
   ]
  },
  {
   "cell_type": "markdown",
   "metadata": {},
   "source": [
    "## Q. 서울, 인천 중 가장 추웠던 날은 언제였을까?\n",
    "\n",
    "### 최저 기온이 서울, 인천 중 어디였는지, 그리고 언제였고, 몇 도였는지 출력하시오.\n",
    "\n",
    "- 기온 데이터의 포멧은 csv 파일로 수집하시오.\n",
    "\n",
    "- 입력에 사용된 csv 파일들, 소스코드를 압축해서 하나의 파일로 제출하시오."
   ]
  },
  {
   "cell_type": "code",
   "execution_count": 56,
   "metadata": {},
   "outputs": [],
   "source": [
    "import csv"
   ]
  },
  {
   "cell_type": "code",
   "execution_count": 57,
   "metadata": {},
   "outputs": [
    {
     "name": "stdout",
     "output_type": "stream",
     "text": [
      "['날짜', '지점', '평균기온(℃)', '최저기온(℃)', '최고기온(℃)']\n"
     ]
    }
   ],
   "source": [
    "f = open('seoul.csv', encoding='cp949')\n",
    "data = csv.reader(f)\n",
    "#dir(data)\n",
    "header = next(data) # header 처리\n",
    "print(header)"
   ]
  },
  {
   "cell_type": "code",
   "execution_count": 58,
   "metadata": {},
   "outputs": [],
   "source": [
    "min_temp = 999\n",
    "min_date = ''"
   ]
  },
  {
   "cell_type": "code",
   "execution_count": 59,
   "metadata": {},
   "outputs": [],
   "source": [
    "for row in data:\n",
    "    row[0] = row[0][1:] # 날짜 앞에 붙은 \\t 제거\n",
    "    if row[-2] == '':\n",
    "        row[-2] = 999 # 결측치 처리\n",
    "    row[-2] = float(row[-2]) # 최저 기온을 실수형으로 변환\n",
    "    # print(row)\n",
    "    if min_temp > row[-2]:\n",
    "        min_date = row[0]\n",
    "        min_temp = row[-2]\n",
    "f.close()\n",
    "smin_date = min_date\n",
    "smin_temp = min_temp\n",
    "#print('기상관측 이래 서울의 최저 기온이 가장 낮았던 날은', smin_date+'로', smin_temp, '도 였습니다.')"
   ]
  },
  {
   "cell_type": "code",
   "execution_count": 60,
   "metadata": {},
   "outputs": [
    {
     "name": "stdout",
     "output_type": "stream",
     "text": [
      "['날짜', '지점', '평균기온(℃)', '최저기온(℃)', '최고기온(℃)']\n"
     ]
    }
   ],
   "source": [
    "f = open('incheon.csv', encoding='cp949')\n",
    "data = csv.reader(f)\n",
    "#dir(data)\n",
    "header = next(data) # header 처리\n",
    "print(header)"
   ]
  },
  {
   "cell_type": "code",
   "execution_count": 61,
   "metadata": {},
   "outputs": [],
   "source": [
    "for row in data:\n",
    "    row[0] = row[0][1:] # 날짜 앞에 붙은 \\t 제거\n",
    "    if row[-2] == '':\n",
    "        row[-2] = 999 # 결측치 처리\n",
    "    row[-2] = float(row[-2]) # 최저 기온을 실수형으로 변환\n",
    "    # print(row)\n",
    "    if min_temp > row[-2]:\n",
    "        min_date = row[0]\n",
    "        min_temp = row[-2]\n",
    "f.close()\n",
    "imin_date = min_date\n",
    "imin_temp = min_temp\n",
    "#print('기상관측 이래 인천의 최저 기온이 가장 낮았던 날은', imin_date+'로', imin_temp, '도 였습니다.')"
   ]
  },
  {
   "cell_type": "code",
   "execution_count": 62,
   "metadata": {},
   "outputs": [
    {
     "name": "stdout",
     "output_type": "stream",
     "text": [
      "기상 관측 이래 최저 기온이 가장 낮았던 날은 서울로 1927-12-31로 -23.1 도 였습니다.\n"
     ]
    }
   ],
   "source": [
    "if smin_temp > imin_temp:\n",
    "    print(\"기상 관측 이래 최저 기온이 가장 낮았던 날은 인천으로\", imin_date+'로', imin_temp, '도 였습니다.')\n",
    "else:\n",
    "    print(\"기상 관측 이래 최저 기온이 가장 낮았던 날은 서울로\", smin_date+'로', smin_temp, '도 였습니다.')"
   ]
  }
 ],
 "metadata": {
  "kernelspec": {
   "display_name": "Python 3",
   "language": "python",
   "name": "python3"
  },
  "language_info": {
   "codemirror_mode": {
    "name": "ipython",
    "version": 3
   },
   "file_extension": ".py",
   "mimetype": "text/x-python",
   "name": "python",
   "nbconvert_exporter": "python",
   "pygments_lexer": "ipython3",
   "version": "3.11.3"
  },
  "orig_nbformat": 4
 },
 "nbformat": 4,
 "nbformat_minor": 2
}
