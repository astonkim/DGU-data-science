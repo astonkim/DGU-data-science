{
 "cells": [
  {
   "cell_type": "markdown",
   "metadata": {},
   "source": [
    "# Data Wrangling 실습 1주차 (Inclass-assignment)\n",
    "### 2018111479 김남민"
   ]
  },
  {
   "cell_type": "markdown",
   "metadata": {},
   "source": [
    "## Q. 파이썬 기초 문법을 활용하여 아래의 문제를 해결하시오."
   ]
  },
  {
   "cell_type": "markdown",
   "metadata": {},
   "source": [
    "### 1. 반복문 - 1부터 100까지의 합을 구하시오."
   ]
  },
  {
   "cell_type": "code",
   "execution_count": 1,
   "metadata": {},
   "outputs": [
    {
     "name": "stdout",
     "output_type": "stream",
     "text": [
      "5050\n"
     ]
    }
   ],
   "source": [
    "# what is the sum of 1~100 (using for loop)\n",
    "sum = 0\n",
    "for i in range(1,101):\n",
    "    sum += i\n",
    "print(sum)"
   ]
  },
  {
   "cell_type": "markdown",
   "metadata": {},
   "source": [
    "### 2-1. List - 리스트에 1부터 20까지 정수를 반복문으로 저장하고 출력하시오."
   ]
  },
  {
   "cell_type": "code",
   "execution_count": 2,
   "metadata": {},
   "outputs": [
    {
     "name": "stdout",
     "output_type": "stream",
     "text": [
      "[1, 2, 3, 4, 5, 6, 7, 8, 9, 10, 11, 12, 13, 14, 15, 16, 17, 18, 19, 20]\n"
     ]
    }
   ],
   "source": [
    "# save 1~20 in list using for loop and print it\n",
    "list = []\n",
    "for i in range(1,21):\n",
    "    list.append(i)\n",
    "print(list)"
   ]
  },
  {
   "cell_type": "markdown",
   "metadata": {},
   "source": [
    "### 2-2. List Slicing - 리스트 슬라이싱으로 뒤에서 5개만 리스트로 출력하시오."
   ]
  },
  {
   "cell_type": "code",
   "execution_count": 3,
   "metadata": {},
   "outputs": [
    {
     "name": "stdout",
     "output_type": "stream",
     "text": [
      "[16, 17, 18, 19, 20]\n"
     ]
    }
   ],
   "source": [
    "# in list, print last 5 elements using list slicing\n",
    "print(list[-5:])"
   ]
  },
  {
   "cell_type": "markdown",
   "metadata": {},
   "source": [
    "### 2-3. 위의 2-1 문제의 반복문과 동일하게 동작하는 List Comprehensions로 구현하시오."
   ]
  },
  {
   "cell_type": "code",
   "execution_count": 4,
   "metadata": {},
   "outputs": [
    {
     "name": "stdout",
     "output_type": "stream",
     "text": [
      "[1, 2, 3, 4, 5, 6, 7, 8, 9, 10, 11, 12, 13, 14, 15, 16, 17, 18, 19, 20]\n"
     ]
    }
   ],
   "source": [
    "# save 1~20 in list using list comprehension and print it\n",
    "list2 = [i for i in range(1,21)]\n",
    "print(list2)"
   ]
  },
  {
   "cell_type": "markdown",
   "metadata": {},
   "source": [
    "### 3-1. 다음 표를 dictionary로 만들고 출력하시오.\n",
    "\n",
    "|항목|값|\n",
    "|---|---|\n",
    "|name|홍길동|\n",
    "|birth|1128|\n",
    "|age|30|"
   ]
  },
  {
   "cell_type": "code",
   "execution_count": 5,
   "metadata": {},
   "outputs": [
    {
     "name": "stdout",
     "output_type": "stream",
     "text": [
      "{'name': '홍길동', 'birth': 1128, 'age': 30}\n"
     ]
    }
   ],
   "source": [
    "# make {'name': '홍길동', 'birth': 1128, 'age': 30} to dictionary and print it\n",
    "dict = {'name': '홍길동', 'birth': 1128, 'age': 30}\n",
    "print(dict)"
   ]
  },
  {
   "cell_type": "markdown",
   "metadata": {},
   "source": [
    "### 3-2. 'book':'노인과 바다' dictionary 쌍을 추가하고 출력하시오."
   ]
  },
  {
   "cell_type": "code",
   "execution_count": 6,
   "metadata": {},
   "outputs": [
    {
     "name": "stdout",
     "output_type": "stream",
     "text": [
      "{'name': '홍길동', 'birth': 1128, 'age': 30, 'book': '노인과 바다'}\n"
     ]
    }
   ],
   "source": [
    "# in dict, add 'book': '노인과 바다' and print it\n",
    "dict['book'] = '노인과 바다'\n",
    "print(dict)"
   ]
  },
  {
   "cell_type": "markdown",
   "metadata": {},
   "source": [
    "### 3-3. 이 dictionary의 key들을 반복문으로 출력하시오."
   ]
  },
  {
   "cell_type": "code",
   "execution_count": 7,
   "metadata": {},
   "outputs": [
    {
     "name": "stdout",
     "output_type": "stream",
     "text": [
      "name\n",
      "birth\n",
      "age\n",
      "book\n"
     ]
    }
   ],
   "source": [
    "# print the keys in dict using for loop\n",
    "for i in dict.keys():\n",
    "    print(i)\n"
   ]
  }
 ],
 "metadata": {
  "kernelspec": {
   "display_name": "astonenv",
   "language": "python",
   "name": "python3"
  },
  "language_info": {
   "codemirror_mode": {
    "name": "ipython",
    "version": 3
   },
   "file_extension": ".py",
   "mimetype": "text/x-python",
   "name": "python",
   "nbconvert_exporter": "python",
   "pygments_lexer": "ipython3",
   "version": "3.11.3"
  },
  "orig_nbformat": 4
 },
 "nbformat": 4,
 "nbformat_minor": 2
}
