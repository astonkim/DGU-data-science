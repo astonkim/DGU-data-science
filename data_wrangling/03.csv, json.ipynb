{
 "cells": [
  {
   "cell_type": "markdown",
   "metadata": {},
   "source": [
    "# 기계가 읽을 수 있는 데이터"
   ]
  },
  {
   "cell_type": "markdown",
   "metadata": {},
   "source": [
    "## 데이터의 종류\n",
    "\n",
    "### 기계가 읽을 수 있는 데이터 Machine-readable Data\n",
    ": 사람의 개입 없이 의미를 잃지 않으면서 컴퓨터가 쉽게 읽을 수 있는 format의 데이터 (2019, OPEN Government Data Act)\n",
    "- CSV\n",
    "- JASON\n",
    "- XML\n",
    "\n",
    "### 인간이 읽을 수 있는 데이터 Human-readable Data\n",
    "- PDF\n",
    "- PDF"
   ]
  },
  {
   "cell_type": "markdown",
   "metadata": {},
   "source": [
    "## CSV (Comma Separated Values)\n",
    "### 형식\n",
    "- 레코드 내의 각 필드가 **콤마(쉼표)**로 구분되어 있는 파일\n",
    "- 각 레코드는 **줄바꿈 문자**로 구분\n",
    "- 스프레드시트와 데이터베이스에서 가장 일반적인 가져오기 및 내보내기 형식\n",
    "- 콤마 대신 탭(Tab)도 가능\n",
    "- 확장자 : .csv\n",
    "- 엑셀에서 .csv 형식으로 읽고 저장할 수 있다."
   ]
  },
  {
   "cell_type": "code",
   "execution_count": null,
   "metadata": {},
   "outputs": [],
   "source": []
  }
 ],
 "metadata": {
  "language_info": {
   "name": "python"
  },
  "orig_nbformat": 4
 },
 "nbformat": 4,
 "nbformat_minor": 2
}
