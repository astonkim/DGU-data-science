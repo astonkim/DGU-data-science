{
 "cells": [
  {
   "cell_type": "markdown",
   "metadata": {},
   "source": [
    "# Regression Analysis HW_1\n",
    "### 2018111479 김남민"
   ]
  },
  {
   "cell_type": "markdown",
   "metadata": {},
   "source": [
    "## Problem 1. Table 1\n",
    "### Table 1 gives data concerning the performance of the 26 National Football League teams in 1976. It is suspected that the number of yards gained rushing by opponents (x8) has an effect on the number of games won by a team (y).\n",
    "\n",
    "- a. Fit a simple linear regression model relating games won y to yards gained rushing by opponents x8.\n",
    "\n",
    "- b. Construct the analysis-of-variance table and test for significance of regression.\n",
    "\n",
    "- c. Find a 95% CI on the slope.\n",
    "\n",
    "- d. What percent of the total variability in y is explained by this model?\n",
    "\n",
    "- e. Find a 95% CI on the mean number of games won if opponents’ yards rushing is limited to 2000 yards."
   ]
  },
  {
   "cell_type": "code",
   "execution_count": 59,
   "metadata": {},
   "outputs": [],
   "source": [
    "import numpy as np\n",
    "import pandas as pd\n",
    "import matplotlib.pyplot as plt\n",
    "import seaborn as sns\n",
    "\n",
    "import statsmodels\n",
    "import statsmodels.api as sm\n",
    "import sklearn\n",
    "from sklearn.model_selection import train_test_split"
   ]
  },
  {
   "cell_type": "code",
   "execution_count": 60,
   "metadata": {},
   "outputs": [
    {
     "data": {
      "text/html": [
       "<div>\n",
       "<style scoped>\n",
       "    .dataframe tbody tr th:only-of-type {\n",
       "        vertical-align: middle;\n",
       "    }\n",
       "\n",
       "    .dataframe tbody tr th {\n",
       "        vertical-align: top;\n",
       "    }\n",
       "\n",
       "    .dataframe thead th {\n",
       "        text-align: right;\n",
       "    }\n",
       "</style>\n",
       "<table border=\"1\" class=\"dataframe\">\n",
       "  <thead>\n",
       "    <tr style=\"text-align: right;\">\n",
       "      <th></th>\n",
       "      <th>y</th>\n",
       "      <th>x1</th>\n",
       "      <th>x2</th>\n",
       "      <th>x3</th>\n",
       "      <th>x4</th>\n",
       "      <th>X5</th>\n",
       "      <th>X6</th>\n",
       "      <th>X7</th>\n",
       "      <th>X8</th>\n",
       "      <th>x9</th>\n",
       "    </tr>\n",
       "  </thead>\n",
       "  <tbody>\n",
       "    <tr>\n",
       "      <th>0</th>\n",
       "      <td>10</td>\n",
       "      <td>2113</td>\n",
       "      <td>1985</td>\n",
       "      <td>38.9</td>\n",
       "      <td>64.7</td>\n",
       "      <td>4</td>\n",
       "      <td>868</td>\n",
       "      <td>59.7</td>\n",
       "      <td>2205</td>\n",
       "      <td>1917</td>\n",
       "    </tr>\n",
       "    <tr>\n",
       "      <th>1</th>\n",
       "      <td>11</td>\n",
       "      <td>2003</td>\n",
       "      <td>2855</td>\n",
       "      <td>38.8</td>\n",
       "      <td>61.3</td>\n",
       "      <td>3</td>\n",
       "      <td>615</td>\n",
       "      <td>55.0</td>\n",
       "      <td>2096</td>\n",
       "      <td>1575</td>\n",
       "    </tr>\n",
       "    <tr>\n",
       "      <th>2</th>\n",
       "      <td>11</td>\n",
       "      <td>2957</td>\n",
       "      <td>1737</td>\n",
       "      <td>40.1</td>\n",
       "      <td>60.0</td>\n",
       "      <td>14</td>\n",
       "      <td>914</td>\n",
       "      <td>65.6</td>\n",
       "      <td>1847</td>\n",
       "      <td>2175</td>\n",
       "    </tr>\n",
       "    <tr>\n",
       "      <th>3</th>\n",
       "      <td>13</td>\n",
       "      <td>2285</td>\n",
       "      <td>2905</td>\n",
       "      <td>41.6</td>\n",
       "      <td>45.3</td>\n",
       "      <td>-4</td>\n",
       "      <td>957</td>\n",
       "      <td>61.4</td>\n",
       "      <td>1903</td>\n",
       "      <td>2476</td>\n",
       "    </tr>\n",
       "    <tr>\n",
       "      <th>4</th>\n",
       "      <td>10</td>\n",
       "      <td>2971</td>\n",
       "      <td>1666</td>\n",
       "      <td>39.2</td>\n",
       "      <td>53.8</td>\n",
       "      <td>15</td>\n",
       "      <td>836</td>\n",
       "      <td>66.1</td>\n",
       "      <td>1457</td>\n",
       "      <td>1866</td>\n",
       "    </tr>\n",
       "    <tr>\n",
       "      <th>5</th>\n",
       "      <td>11</td>\n",
       "      <td>2309</td>\n",
       "      <td>2927</td>\n",
       "      <td>39.7</td>\n",
       "      <td>74.1</td>\n",
       "      <td>8</td>\n",
       "      <td>786</td>\n",
       "      <td>61.0</td>\n",
       "      <td>1848</td>\n",
       "      <td>2339</td>\n",
       "    </tr>\n",
       "    <tr>\n",
       "      <th>6</th>\n",
       "      <td>10</td>\n",
       "      <td>2528</td>\n",
       "      <td>2341</td>\n",
       "      <td>38.1</td>\n",
       "      <td>65.4</td>\n",
       "      <td>12</td>\n",
       "      <td>754</td>\n",
       "      <td>66.1</td>\n",
       "      <td>1564</td>\n",
       "      <td>2092</td>\n",
       "    </tr>\n",
       "    <tr>\n",
       "      <th>7</th>\n",
       "      <td>11</td>\n",
       "      <td>2147</td>\n",
       "      <td>2737</td>\n",
       "      <td>37.0</td>\n",
       "      <td>78.3</td>\n",
       "      <td>-1</td>\n",
       "      <td>761</td>\n",
       "      <td>58.0</td>\n",
       "      <td>1821</td>\n",
       "      <td>1909</td>\n",
       "    </tr>\n",
       "    <tr>\n",
       "      <th>8</th>\n",
       "      <td>4</td>\n",
       "      <td>1689</td>\n",
       "      <td>1414</td>\n",
       "      <td>42.1</td>\n",
       "      <td>47.6</td>\n",
       "      <td>-3</td>\n",
       "      <td>714</td>\n",
       "      <td>57.0</td>\n",
       "      <td>2577</td>\n",
       "      <td>2001</td>\n",
       "    </tr>\n",
       "    <tr>\n",
       "      <th>9</th>\n",
       "      <td>2</td>\n",
       "      <td>2566</td>\n",
       "      <td>1838</td>\n",
       "      <td>42.3</td>\n",
       "      <td>54.2</td>\n",
       "      <td>-1</td>\n",
       "      <td>797</td>\n",
       "      <td>58.9</td>\n",
       "      <td>2476</td>\n",
       "      <td>2254</td>\n",
       "    </tr>\n",
       "    <tr>\n",
       "      <th>10</th>\n",
       "      <td>7</td>\n",
       "      <td>2363</td>\n",
       "      <td>1480</td>\n",
       "      <td>37.3</td>\n",
       "      <td>48.0</td>\n",
       "      <td>19</td>\n",
       "      <td>984</td>\n",
       "      <td>67.5</td>\n",
       "      <td>1984</td>\n",
       "      <td>2217</td>\n",
       "    </tr>\n",
       "    <tr>\n",
       "      <th>11</th>\n",
       "      <td>10</td>\n",
       "      <td>2109</td>\n",
       "      <td>2191</td>\n",
       "      <td>39.5</td>\n",
       "      <td>51.9</td>\n",
       "      <td>6</td>\n",
       "      <td>700</td>\n",
       "      <td>57.2</td>\n",
       "      <td>1917</td>\n",
       "      <td>1758</td>\n",
       "    </tr>\n",
       "    <tr>\n",
       "      <th>12</th>\n",
       "      <td>9</td>\n",
       "      <td>2295</td>\n",
       "      <td>2229</td>\n",
       "      <td>37.4</td>\n",
       "      <td>53.6</td>\n",
       "      <td>-5</td>\n",
       "      <td>1037</td>\n",
       "      <td>58.8</td>\n",
       "      <td>1761</td>\n",
       "      <td>2032</td>\n",
       "    </tr>\n",
       "    <tr>\n",
       "      <th>13</th>\n",
       "      <td>9</td>\n",
       "      <td>1932</td>\n",
       "      <td>2204</td>\n",
       "      <td>35.1</td>\n",
       "      <td>71.4</td>\n",
       "      <td>3</td>\n",
       "      <td>986</td>\n",
       "      <td>58.6</td>\n",
       "      <td>1709</td>\n",
       "      <td>2025</td>\n",
       "    </tr>\n",
       "    <tr>\n",
       "      <th>14</th>\n",
       "      <td>6</td>\n",
       "      <td>2213</td>\n",
       "      <td>2140</td>\n",
       "      <td>38.8</td>\n",
       "      <td>58.3</td>\n",
       "      <td>6</td>\n",
       "      <td>819</td>\n",
       "      <td>59.2</td>\n",
       "      <td>1901</td>\n",
       "      <td>1686</td>\n",
       "    </tr>\n",
       "    <tr>\n",
       "      <th>15</th>\n",
       "      <td>5</td>\n",
       "      <td>1722</td>\n",
       "      <td>1730</td>\n",
       "      <td>36.6</td>\n",
       "      <td>52.6</td>\n",
       "      <td>-19</td>\n",
       "      <td>791</td>\n",
       "      <td>54.4</td>\n",
       "      <td>2288</td>\n",
       "      <td>1835</td>\n",
       "    </tr>\n",
       "    <tr>\n",
       "      <th>16</th>\n",
       "      <td>5</td>\n",
       "      <td>1498</td>\n",
       "      <td>2072</td>\n",
       "      <td>35.3</td>\n",
       "      <td>59.3</td>\n",
       "      <td>-5</td>\n",
       "      <td>776</td>\n",
       "      <td>49.6</td>\n",
       "      <td>2072</td>\n",
       "      <td>1914</td>\n",
       "    </tr>\n",
       "    <tr>\n",
       "      <th>17</th>\n",
       "      <td>5</td>\n",
       "      <td>1873</td>\n",
       "      <td>2929</td>\n",
       "      <td>41.1</td>\n",
       "      <td>55.3</td>\n",
       "      <td>10</td>\n",
       "      <td>789</td>\n",
       "      <td>54.3</td>\n",
       "      <td>2861</td>\n",
       "      <td>2496</td>\n",
       "    </tr>\n",
       "    <tr>\n",
       "      <th>18</th>\n",
       "      <td>6</td>\n",
       "      <td>2118</td>\n",
       "      <td>2268</td>\n",
       "      <td>38.2</td>\n",
       "      <td>69.6</td>\n",
       "      <td>6</td>\n",
       "      <td>582</td>\n",
       "      <td>58.7</td>\n",
       "      <td>2411</td>\n",
       "      <td>2670</td>\n",
       "    </tr>\n",
       "    <tr>\n",
       "      <th>19</th>\n",
       "      <td>4</td>\n",
       "      <td>1775</td>\n",
       "      <td>1983</td>\n",
       "      <td>39.3</td>\n",
       "      <td>78.3</td>\n",
       "      <td>7</td>\n",
       "      <td>901</td>\n",
       "      <td>51.7</td>\n",
       "      <td>2289</td>\n",
       "      <td>2202</td>\n",
       "    </tr>\n",
       "    <tr>\n",
       "      <th>20</th>\n",
       "      <td>3</td>\n",
       "      <td>1904</td>\n",
       "      <td>1792</td>\n",
       "      <td>39.7</td>\n",
       "      <td>38.1</td>\n",
       "      <td>-9</td>\n",
       "      <td>734</td>\n",
       "      <td>61.9</td>\n",
       "      <td>2203</td>\n",
       "      <td>1988</td>\n",
       "    </tr>\n",
       "    <tr>\n",
       "      <th>21</th>\n",
       "      <td>3</td>\n",
       "      <td>1929</td>\n",
       "      <td>1606</td>\n",
       "      <td>39.7</td>\n",
       "      <td>68.8</td>\n",
       "      <td>-21</td>\n",
       "      <td>627</td>\n",
       "      <td>52.7</td>\n",
       "      <td>2592</td>\n",
       "      <td>2324</td>\n",
       "    </tr>\n",
       "    <tr>\n",
       "      <th>22</th>\n",
       "      <td>4</td>\n",
       "      <td>2080</td>\n",
       "      <td>1492</td>\n",
       "      <td>35.5</td>\n",
       "      <td>68.8</td>\n",
       "      <td>-8</td>\n",
       "      <td>722</td>\n",
       "      <td>57.8</td>\n",
       "      <td>2053</td>\n",
       "      <td>2550</td>\n",
       "    </tr>\n",
       "    <tr>\n",
       "      <th>23</th>\n",
       "      <td>10</td>\n",
       "      <td>2301</td>\n",
       "      <td>2835</td>\n",
       "      <td>35.3</td>\n",
       "      <td>74.1</td>\n",
       "      <td>2</td>\n",
       "      <td>683</td>\n",
       "      <td>59.7</td>\n",
       "      <td>1979</td>\n",
       "      <td>2110</td>\n",
       "    </tr>\n",
       "    <tr>\n",
       "      <th>24</th>\n",
       "      <td>6</td>\n",
       "      <td>2040</td>\n",
       "      <td>2416</td>\n",
       "      <td>38.7</td>\n",
       "      <td>50.0</td>\n",
       "      <td>0</td>\n",
       "      <td>576</td>\n",
       "      <td>54.9</td>\n",
       "      <td>2048</td>\n",
       "      <td>2628</td>\n",
       "    </tr>\n",
       "    <tr>\n",
       "      <th>25</th>\n",
       "      <td>8</td>\n",
       "      <td>2447</td>\n",
       "      <td>1638</td>\n",
       "      <td>39.9</td>\n",
       "      <td>57.1</td>\n",
       "      <td>-8</td>\n",
       "      <td>848</td>\n",
       "      <td>65.3</td>\n",
       "      <td>1786</td>\n",
       "      <td>1776</td>\n",
       "    </tr>\n",
       "    <tr>\n",
       "      <th>26</th>\n",
       "      <td>2</td>\n",
       "      <td>1416</td>\n",
       "      <td>2649</td>\n",
       "      <td>37.4</td>\n",
       "      <td>56.3</td>\n",
       "      <td>-22</td>\n",
       "      <td>684</td>\n",
       "      <td>43.8</td>\n",
       "      <td>2876</td>\n",
       "      <td>2524</td>\n",
       "    </tr>\n",
       "    <tr>\n",
       "      <th>27</th>\n",
       "      <td>0</td>\n",
       "      <td>1503</td>\n",
       "      <td>1503</td>\n",
       "      <td>39.3</td>\n",
       "      <td>47.0</td>\n",
       "      <td>-9</td>\n",
       "      <td>875</td>\n",
       "      <td>53.5</td>\n",
       "      <td>2560</td>\n",
       "      <td>2241</td>\n",
       "    </tr>\n",
       "  </tbody>\n",
       "</table>\n",
       "</div>"
      ],
      "text/plain": [
       "     y    x1    x2    x3    x4  X5    X6    X7    X8    x9\n",
       "0   10  2113  1985  38.9  64.7   4   868  59.7  2205  1917\n",
       "1   11  2003  2855  38.8  61.3   3   615  55.0  2096  1575\n",
       "2   11  2957  1737  40.1  60.0  14   914  65.6  1847  2175\n",
       "3   13  2285  2905  41.6  45.3  -4   957  61.4  1903  2476\n",
       "4   10  2971  1666  39.2  53.8  15   836  66.1  1457  1866\n",
       "5   11  2309  2927  39.7  74.1   8   786  61.0  1848  2339\n",
       "6   10  2528  2341  38.1  65.4  12   754  66.1  1564  2092\n",
       "7   11  2147  2737  37.0  78.3  -1   761  58.0  1821  1909\n",
       "8    4  1689  1414  42.1  47.6  -3   714  57.0  2577  2001\n",
       "9    2  2566  1838  42.3  54.2  -1   797  58.9  2476  2254\n",
       "10   7  2363  1480  37.3  48.0  19   984  67.5  1984  2217\n",
       "11  10  2109  2191  39.5  51.9   6   700  57.2  1917  1758\n",
       "12   9  2295  2229  37.4  53.6  -5  1037  58.8  1761  2032\n",
       "13   9  1932  2204  35.1  71.4   3   986  58.6  1709  2025\n",
       "14   6  2213  2140  38.8  58.3   6   819  59.2  1901  1686\n",
       "15   5  1722  1730  36.6  52.6 -19   791  54.4  2288  1835\n",
       "16   5  1498  2072  35.3  59.3  -5   776  49.6  2072  1914\n",
       "17   5  1873  2929  41.1  55.3  10   789  54.3  2861  2496\n",
       "18   6  2118  2268  38.2  69.6   6   582  58.7  2411  2670\n",
       "19   4  1775  1983  39.3  78.3   7   901  51.7  2289  2202\n",
       "20   3  1904  1792  39.7  38.1  -9   734  61.9  2203  1988\n",
       "21   3  1929  1606  39.7  68.8 -21   627  52.7  2592  2324\n",
       "22   4  2080  1492  35.5  68.8  -8   722  57.8  2053  2550\n",
       "23  10  2301  2835  35.3  74.1   2   683  59.7  1979  2110\n",
       "24   6  2040  2416  38.7  50.0   0   576  54.9  2048  2628\n",
       "25   8  2447  1638  39.9  57.1  -8   848  65.3  1786  1776\n",
       "26   2  1416  2649  37.4  56.3 -22   684  43.8  2876  2524\n",
       "27   0  1503  1503  39.3  47.0  -9   875  53.5  2560  2241"
      ]
     },
     "execution_count": 60,
     "metadata": {},
     "output_type": "execute_result"
    }
   ],
   "source": [
    "table1 = pd.read_csv('table1.txt', sep='\\t')\n",
    "table1"
   ]
  },
  {
   "cell_type": "markdown",
   "metadata": {},
   "source": [
    "## 1-a. Fit a simple linear regression model relating games won y to yards gained rushing by opponents x8."
   ]
  },
  {
   "cell_type": "code",
   "execution_count": 61,
   "metadata": {},
   "outputs": [
    {
     "data": {
      "text/html": [
       "<div>\n",
       "<style scoped>\n",
       "    .dataframe tbody tr th:only-of-type {\n",
       "        vertical-align: middle;\n",
       "    }\n",
       "\n",
       "    .dataframe tbody tr th {\n",
       "        vertical-align: top;\n",
       "    }\n",
       "\n",
       "    .dataframe thead th {\n",
       "        text-align: right;\n",
       "    }\n",
       "</style>\n",
       "<table border=\"1\" class=\"dataframe\">\n",
       "  <thead>\n",
       "    <tr style=\"text-align: right;\">\n",
       "      <th></th>\n",
       "      <th>const</th>\n",
       "      <th>X8</th>\n",
       "    </tr>\n",
       "  </thead>\n",
       "  <tbody>\n",
       "    <tr>\n",
       "      <th>13</th>\n",
       "      <td>1.0</td>\n",
       "      <td>1709</td>\n",
       "    </tr>\n",
       "    <tr>\n",
       "      <th>20</th>\n",
       "      <td>1.0</td>\n",
       "      <td>2203</td>\n",
       "    </tr>\n",
       "    <tr>\n",
       "      <th>4</th>\n",
       "      <td>1.0</td>\n",
       "      <td>1457</td>\n",
       "    </tr>\n",
       "    <tr>\n",
       "      <th>27</th>\n",
       "      <td>1.0</td>\n",
       "      <td>2560</td>\n",
       "    </tr>\n",
       "    <tr>\n",
       "      <th>0</th>\n",
       "      <td>1.0</td>\n",
       "      <td>2205</td>\n",
       "    </tr>\n",
       "  </tbody>\n",
       "</table>\n",
       "</div>"
      ],
      "text/plain": [
       "    const    X8\n",
       "13    1.0  1709\n",
       "20    1.0  2203\n",
       "4     1.0  1457\n",
       "27    1.0  2560\n",
       "0     1.0  2205"
      ]
     },
     "execution_count": 61,
     "metadata": {},
     "output_type": "execute_result"
    }
   ],
   "source": [
    "# 1. fit a simple linear regression model relating games won (y) to yards gained rushing by opponents (x8).\n",
    "# create X and y\n",
    "X = table1['X8']\n",
    "y = table1['y']\n",
    "# Create Train and Test Data sets (70% and 30% or 80% and 20%)\n",
    "X_train, X_test, y_train, y_test = train_test_split(X, y, train_size=0.7, random_state=100)\n",
    "# Train the model using the training sets (statsmodels)\n",
    "X_train_sm = sm.add_constant(X_train)\n",
    "X_train_sm.head()"
   ]
  },
  {
   "cell_type": "code",
   "execution_count": 62,
   "metadata": {},
   "outputs": [
    {
     "data": {
      "text/plain": [
       "const    21.470512\n",
       "X8       -0.006763\n",
       "dtype: float64"
      ]
     },
     "execution_count": 62,
     "metadata": {},
     "output_type": "execute_result"
    }
   ],
   "source": [
    "# Training(fitting) the model\n",
    "lr = sm.OLS(y_train, X_train_sm) # initialization\n",
    "lr_model = lr.fit() # fitting / training\n",
    "lr_model.params"
   ]
  },
  {
   "cell_type": "code",
   "execution_count": 74,
   "metadata": {},
   "outputs": [
    {
     "name": "stdout",
     "output_type": "stream",
     "text": [
      "(19, 1)\n",
      "(19,)\n",
      "(9, 1)\n",
      "(9,)\n",
      "21.470512002222815\n",
      "[-0.00676282]\n"
     ]
    }
   ],
   "source": [
    "from sklearn.model_selection import train_test_split\n",
    "from scipy import stats\n",
    "\n",
    "X_train_lm, X_test_lm, y_train_lm, y_test_lm = train_test_split(X, y, train_size = 0.7, test_size = 0.3, random_state = 100)\n",
    "\n",
    "X_train_lm = X_train_lm.values.reshape(-1,1)\n",
    "X_test_lm = X_test_lm.values.reshape(-1,1)\n",
    "print(X_train_lm.shape)\n",
    "print(y_train_lm.shape)\n",
    "print(X_test_lm.shape)\n",
    "print(y_test_lm.shape)\n",
    "\n",
    "from sklearn.linear_model import LinearRegression\n",
    "\n",
    "# Representing LinearRegression as lm(Creating LinearRegression Object)\n",
    "lm = LinearRegression()\n",
    "\n",
    "# Fit the model using lr.fit()\n",
    "lm.fit(X_train_lm, y_train_lm)\n",
    "print(lm.intercept_)\n",
    "print(lm.coef_)"
   ]
  },
  {
   "cell_type": "code",
   "execution_count": 63,
   "metadata": {},
   "outputs": [
    {
     "data": {
      "text/plain": [
       "<matplotlib.collections.PathCollection at 0x28764bd90>"
      ]
     },
     "execution_count": 63,
     "metadata": {},
     "output_type": "execute_result"
    },
    {
     "data": {
      "image/png": "[encoded data removed]",
      "text/plain": [
       "<Figure size 640x480 with 1 Axes>"
      ]
     },
     "metadata": {},
     "output_type": "display_data"
    }
   ],
   "source": [
    "# visualize\n",
    "plt.scatter(X_train, y_train)"
   ]
  },
  {
   "cell_type": "code",
   "execution_count": 64,
   "metadata": {},
   "outputs": [
    {
     "data": {
      "image/png": "[encoded data removed]",
      "text/plain": [
       "<Figure size 640x480 with 1 Axes>"
      ]
     },
     "metadata": {},
     "output_type": "display_data"
    }
   ],
   "source": [
    "# Scatterplot with regression line\n",
    "plt.scatter(X_train, y_train)\n",
    "plt.plot(X_train, 21.470+(-0.006)*X_train,'r')\n",
    "plt.show()"
   ]
  },
  {
   "cell_type": "markdown",
   "metadata": {},
   "source": [
    "## 1-b. Construct the analysis-of-variance table and test for significance of regression."
   ]
  },
  {
   "cell_type": "code",
   "execution_count": 65,
   "metadata": {},
   "outputs": [
    {
     "name": "stdout",
     "output_type": "stream",
     "text": [
      "-1.2079226507921703e-13\n",
      "13   -0.912854\n",
      "20   -3.572021\n",
      "4    -1.617084\n",
      "27   -4.157695\n",
      "0     3.441505\n",
      "1     3.704357\n",
      "17    2.877914\n",
      "14   -2.614392\n",
      "18    0.834645\n",
      "19   -1.990419\n",
      "2     2.020415\n",
      "10   -1.053078\n",
      "16   -2.457950\n",
      "15   -0.997181\n",
      "23    1.913107\n",
      "7     1.844582\n",
      "3     4.399133\n",
      "24   -1.620258\n",
      "8    -0.042727\n",
      "dtype: float64\n"
     ]
    }
   ],
   "source": [
    "y_train_pred=lr_model.predict(X_train_sm)\n",
    "\n",
    "residual = y_train-y_train_pred\n",
    "print(residual.sum())\n",
    "print(residual)"
   ]
  },
  {
   "cell_type": "code",
   "execution_count": 66,
   "metadata": {},
   "outputs": [
    {
     "data": {
      "text/plain": [
       "Text(0.5, 1.0, 'Residual Plot')"
      ]
     },
     "execution_count": 66,
     "metadata": {},
     "output_type": "execute_result"
    },
    {
     "data": {
      "text/plain": [
       "<Figure size 640x480 with 0 Axes>"
      ]
     },
     "metadata": {},
     "output_type": "display_data"
    },
    {
     "data": {
      "image/png": "[encoded data removed]",
      "text/plain": [
       "<Figure size 500x500 with 1 Axes>"
      ]
     },
     "metadata": {},
     "output_type": "display_data"
    }
   ],
   "source": [
    "plt.figure()\n",
    "sns.displot(residual)\n",
    "plt.title(\"Residual Plot\")"
   ]
  },
  {
   "cell_type": "code",
   "execution_count": 67,
   "metadata": {},
   "outputs": [
    {
     "data": {
      "image/png": "[encoded data removed]",
      "text/plain": [
       "<Figure size 640x480 with 1 Axes>"
      ]
     },
     "metadata": {},
     "output_type": "display_data"
    }
   ],
   "source": [
    "plt.scatter(X_train, residual)\n",
    "plt.show()"
   ]
  },
  {
   "cell_type": "code",
   "execution_count": 68,
   "metadata": {},
   "outputs": [
    {
     "name": "stdout",
     "output_type": "stream",
     "text": [
      "                            OLS Regression Results                            \n",
      "==============================================================================\n",
      "Dep. Variable:                      y   R-squared:                       0.435\n",
      "Model:                            OLS   Adj. R-squared:                  0.402\n",
      "Method:                 Least Squares   F-statistic:                     13.08\n",
      "Date:                Wed, 04 Oct 2023   Prob (F-statistic):            0.00213\n",
      "Time:                        13:14:59   Log-Likelihood:                -44.477\n",
      "No. Observations:                  19   AIC:                             92.95\n",
      "Df Residuals:                      17   BIC:                             94.84\n",
      "Df Model:                           1                                         \n",
      "Covariance Type:            nonrobust                                         \n",
      "==============================================================================\n",
      "                 coef    std err          t      P>|t|      [0.025      0.975]\n",
      "------------------------------------------------------------------------------\n",
      "const         21.4705      4.004      5.362      0.000      13.023      29.918\n",
      "X8            -0.0068      0.002     -3.617      0.002      -0.011      -0.003\n",
      "==============================================================================\n",
      "Omnibus:                        2.469   Durbin-Watson:                   1.742\n",
      "Prob(Omnibus):                  0.291   Jarque-Bera (JB):                1.178\n",
      "Skew:                           0.176   Prob(JB):                        0.555\n",
      "Kurtosis:                       1.832   Cond. No.                     1.41e+04\n",
      "==============================================================================\n",
      "\n",
      "Notes:\n",
      "[1] Standard Errors assume that the covariance matrix of the errors is correctly specified.\n",
      "[2] The condition number is large, 1.41e+04. This might indicate that there are\n",
      "strong multicollinearity or other numerical problems.\n"
     ]
    },
    {
     "name": "stderr",
     "output_type": "stream",
     "text": [
      "/opt/homebrew/lib/python3.11/site-packages/scipy/stats/_stats_py.py:1736: UserWarning: kurtosistest only valid for n>=20 ... continuing anyway, n=19\n",
      "  warnings.warn(\"kurtosistest only valid for n>=20 ... continuing \"\n"
     ]
    }
   ],
   "source": [
    "print(lr_model.summary())"
   ]
  },
  {
   "cell_type": "markdown",
   "metadata": {},
   "source": [
    "## 1-c. Find a 95% CI on the slope."
   ]
  },
  {
   "cell_type": "code",
   "execution_count": 75,
   "metadata": {},
   "outputs": [],
   "source": [
    "coefficients = lm.coef_\n",
    "mse_resid = np.mean((lm.predict(X_train_lm) - y_train_lm) ** 2)"
   ]
  },
  {
   "cell_type": "code",
   "execution_count": 76,
   "metadata": {},
   "outputs": [],
   "source": [
    "n = len(y_train_lm)\n",
    "k = len(X_train_lm[0])\n",
    "std_err = np.sqrt(mse_resid / (n - k) * np.diag(np.linalg.inv(np.dot(X_train_lm.T, X_train_lm))))"
   ]
  },
  {
   "cell_type": "code",
   "execution_count": 77,
   "metadata": {},
   "outputs": [
    {
     "name": "stdout",
     "output_type": "stream",
     "text": [
      "[[-0.00689621 -0.00662943]]\n"
     ]
    }
   ],
   "source": [
    "alpha = 0.05\n",
    "t_value = stats.t.ppf(1 - alpha / 2, n - k)\n",
    "conf_int = np.vstack((coefficients - t_value * std_err, coefficients + t_value * std_err)).T\n",
    "print(conf_int)"
   ]
  },
  {
   "cell_type": "markdown",
   "metadata": {},
   "source": [
    "## 1-d. What percent of the total variability in y is explained by this model?"
   ]
  },
  {
   "cell_type": "code",
   "execution_count": 78,
   "metadata": {},
   "outputs": [
    {
     "name": "stdout",
     "output_type": "stream",
     "text": [
      "Mean_Squared_Error : 3.396774923411799\n",
      "r_square_value : 0.7275853774293508\n"
     ]
    }
   ],
   "source": [
    "prediction = lm.predict(X_test_lm)\n",
    "residual = (y_test_lm - prediction)\n",
    "\n",
    "from sklearn.metrics import mean_squared_error, r2_score\n",
    "mse = mean_squared_error(y_test_lm, prediction)\n",
    "r_squared = r2_score(y_test_lm, prediction)\n",
    "\n",
    "print('Mean_Squared_Error :' ,mse)\n",
    "print('r_square_value :',r_squared)"
   ]
  },
  {
   "cell_type": "markdown",
   "metadata": {},
   "source": [
    "## Problem 2. Table 2\n",
    "### Table2 presents data collected during a solar energy project at Georgia Tech.\n",
    "\n",
    "- a. Fit a simple linear regression model relating total heat flux y (kilowatts) to the radial deflection of the deflected rays x4 (milliradians).\n",
    "\n",
    "- b. Construct the analysis-of-variance table and test for significance of regression.\n",
    "\n",
    "- c. Find a 99% CI on the slope.\n",
    "\n",
    "- d. Calculate R2.\n",
    "\n",
    "- e. Find a 95% CI on the mean heat flux when the radial deflection is 16.5 milliradians."
   ]
  },
  {
   "cell_type": "code",
   "execution_count": 82,
   "metadata": {},
   "outputs": [
    {
     "data": {
      "text/html": [
       "<div>\n",
       "<style scoped>\n",
       "    .dataframe tbody tr th:only-of-type {\n",
       "        vertical-align: middle;\n",
       "    }\n",
       "\n",
       "    .dataframe tbody tr th {\n",
       "        vertical-align: top;\n",
       "    }\n",
       "\n",
       "    .dataframe thead th {\n",
       "        text-align: right;\n",
       "    }\n",
       "</style>\n",
       "<table border=\"1\" class=\"dataframe\">\n",
       "  <thead>\n",
       "    <tr style=\"text-align: right;\">\n",
       "      <th></th>\n",
       "      <th>y</th>\n",
       "      <th>x1</th>\n",
       "      <th>x2</th>\n",
       "      <th>x3</th>\n",
       "      <th>x4</th>\n",
       "      <th>X5</th>\n",
       "    </tr>\n",
       "  </thead>\n",
       "  <tbody>\n",
       "    <tr>\n",
       "      <th>0</th>\n",
       "      <td>271.8</td>\n",
       "      <td>783.35</td>\n",
       "      <td>33.53</td>\n",
       "      <td>40.55</td>\n",
       "      <td>16.66</td>\n",
       "      <td>13.20</td>\n",
       "    </tr>\n",
       "    <tr>\n",
       "      <th>1</th>\n",
       "      <td>264.0</td>\n",
       "      <td>748.45</td>\n",
       "      <td>36.50</td>\n",
       "      <td>36.19</td>\n",
       "      <td>16.46</td>\n",
       "      <td>14.11</td>\n",
       "    </tr>\n",
       "    <tr>\n",
       "      <th>2</th>\n",
       "      <td>238.8</td>\n",
       "      <td>684.45</td>\n",
       "      <td>34.66</td>\n",
       "      <td>37.31</td>\n",
       "      <td>17.66</td>\n",
       "      <td>15.68</td>\n",
       "    </tr>\n",
       "    <tr>\n",
       "      <th>3</th>\n",
       "      <td>230.7</td>\n",
       "      <td>827.80</td>\n",
       "      <td>33.13</td>\n",
       "      <td>32.52</td>\n",
       "      <td>17.50</td>\n",
       "      <td>10.53</td>\n",
       "    </tr>\n",
       "    <tr>\n",
       "      <th>4</th>\n",
       "      <td>251.6</td>\n",
       "      <td>860.45</td>\n",
       "      <td>35.75</td>\n",
       "      <td>33.71</td>\n",
       "      <td>16.40</td>\n",
       "      <td>11.00</td>\n",
       "    </tr>\n",
       "    <tr>\n",
       "      <th>5</th>\n",
       "      <td>257.9</td>\n",
       "      <td>875.15</td>\n",
       "      <td>34.46</td>\n",
       "      <td>34.14</td>\n",
       "      <td>16.28</td>\n",
       "      <td>11.31</td>\n",
       "    </tr>\n",
       "    <tr>\n",
       "      <th>6</th>\n",
       "      <td>263.9</td>\n",
       "      <td>909.45</td>\n",
       "      <td>34.60</td>\n",
       "      <td>34.85</td>\n",
       "      <td>16.06</td>\n",
       "      <td>11.96</td>\n",
       "    </tr>\n",
       "    <tr>\n",
       "      <th>7</th>\n",
       "      <td>266.5</td>\n",
       "      <td>905.55</td>\n",
       "      <td>35.38</td>\n",
       "      <td>35.89</td>\n",
       "      <td>15.93</td>\n",
       "      <td>12.58</td>\n",
       "    </tr>\n",
       "    <tr>\n",
       "      <th>8</th>\n",
       "      <td>229.1</td>\n",
       "      <td>756.00</td>\n",
       "      <td>35.85</td>\n",
       "      <td>33.53</td>\n",
       "      <td>16.60</td>\n",
       "      <td>10.66</td>\n",
       "    </tr>\n",
       "    <tr>\n",
       "      <th>9</th>\n",
       "      <td>239.3</td>\n",
       "      <td>769.35</td>\n",
       "      <td>35.68</td>\n",
       "      <td>33.79</td>\n",
       "      <td>16.41</td>\n",
       "      <td>10.85</td>\n",
       "    </tr>\n",
       "    <tr>\n",
       "      <th>10</th>\n",
       "      <td>258.0</td>\n",
       "      <td>793.50</td>\n",
       "      <td>35.35</td>\n",
       "      <td>34.72</td>\n",
       "      <td>16.17</td>\n",
       "      <td>11.41</td>\n",
       "    </tr>\n",
       "    <tr>\n",
       "      <th>11</th>\n",
       "      <td>257.6</td>\n",
       "      <td>801.65</td>\n",
       "      <td>35.04</td>\n",
       "      <td>35.22</td>\n",
       "      <td>15.92</td>\n",
       "      <td>11.91</td>\n",
       "    </tr>\n",
       "    <tr>\n",
       "      <th>12</th>\n",
       "      <td>267.3</td>\n",
       "      <td>819.65</td>\n",
       "      <td>34.07</td>\n",
       "      <td>36.50</td>\n",
       "      <td>16.04</td>\n",
       "      <td>12.85</td>\n",
       "    </tr>\n",
       "    <tr>\n",
       "      <th>13</th>\n",
       "      <td>267.0</td>\n",
       "      <td>808.55</td>\n",
       "      <td>32.20</td>\n",
       "      <td>37.60</td>\n",
       "      <td>16.19</td>\n",
       "      <td>13.58</td>\n",
       "    </tr>\n",
       "    <tr>\n",
       "      <th>14</th>\n",
       "      <td>259.6</td>\n",
       "      <td>774.95</td>\n",
       "      <td>34.32</td>\n",
       "      <td>37.89</td>\n",
       "      <td>16.62</td>\n",
       "      <td>14.21</td>\n",
       "    </tr>\n",
       "    <tr>\n",
       "      <th>15</th>\n",
       "      <td>240.4</td>\n",
       "      <td>711.85</td>\n",
       "      <td>31.08</td>\n",
       "      <td>37.71</td>\n",
       "      <td>17.37</td>\n",
       "      <td>15.56</td>\n",
       "    </tr>\n",
       "    <tr>\n",
       "      <th>16</th>\n",
       "      <td>227.2</td>\n",
       "      <td>694.85</td>\n",
       "      <td>35.73</td>\n",
       "      <td>37.00</td>\n",
       "      <td>18.12</td>\n",
       "      <td>15.83</td>\n",
       "    </tr>\n",
       "    <tr>\n",
       "      <th>17</th>\n",
       "      <td>196.0</td>\n",
       "      <td>638.10</td>\n",
       "      <td>34.11</td>\n",
       "      <td>36.76</td>\n",
       "      <td>18.53</td>\n",
       "      <td>16.41</td>\n",
       "    </tr>\n",
       "    <tr>\n",
       "      <th>18</th>\n",
       "      <td>278.7</td>\n",
       "      <td>774.55</td>\n",
       "      <td>34.79</td>\n",
       "      <td>34.62</td>\n",
       "      <td>15.54</td>\n",
       "      <td>13.10</td>\n",
       "    </tr>\n",
       "    <tr>\n",
       "      <th>19</th>\n",
       "      <td>272.3</td>\n",
       "      <td>757.90</td>\n",
       "      <td>35.77</td>\n",
       "      <td>35.40</td>\n",
       "      <td>15.70</td>\n",
       "      <td>13.63</td>\n",
       "    </tr>\n",
       "    <tr>\n",
       "      <th>20</th>\n",
       "      <td>267.4</td>\n",
       "      <td>753.35</td>\n",
       "      <td>36.44</td>\n",
       "      <td>35.96</td>\n",
       "      <td>16.45</td>\n",
       "      <td>14.51</td>\n",
       "    </tr>\n",
       "    <tr>\n",
       "      <th>21</th>\n",
       "      <td>254.5</td>\n",
       "      <td>704.70</td>\n",
       "      <td>37.82</td>\n",
       "      <td>36.26</td>\n",
       "      <td>17.62</td>\n",
       "      <td>15.38</td>\n",
       "    </tr>\n",
       "    <tr>\n",
       "      <th>22</th>\n",
       "      <td>224.7</td>\n",
       "      <td>666.80</td>\n",
       "      <td>35.07</td>\n",
       "      <td>36.34</td>\n",
       "      <td>18.12</td>\n",
       "      <td>16.10</td>\n",
       "    </tr>\n",
       "    <tr>\n",
       "      <th>23</th>\n",
       "      <td>181.5</td>\n",
       "      <td>568.55</td>\n",
       "      <td>35.26</td>\n",
       "      <td>35.90</td>\n",
       "      <td>19.05</td>\n",
       "      <td>16.73</td>\n",
       "    </tr>\n",
       "    <tr>\n",
       "      <th>24</th>\n",
       "      <td>227.5</td>\n",
       "      <td>653.10</td>\n",
       "      <td>35.56</td>\n",
       "      <td>31.84</td>\n",
       "      <td>16.51</td>\n",
       "      <td>10.58</td>\n",
       "    </tr>\n",
       "    <tr>\n",
       "      <th>25</th>\n",
       "      <td>253.6</td>\n",
       "      <td>704.05</td>\n",
       "      <td>35.73</td>\n",
       "      <td>33.16</td>\n",
       "      <td>16.02</td>\n",
       "      <td>11.28</td>\n",
       "    </tr>\n",
       "    <tr>\n",
       "      <th>26</th>\n",
       "      <td>263.0</td>\n",
       "      <td>709.60</td>\n",
       "      <td>36.46</td>\n",
       "      <td>33.83</td>\n",
       "      <td>15.89</td>\n",
       "      <td>11.91</td>\n",
       "    </tr>\n",
       "    <tr>\n",
       "      <th>27</th>\n",
       "      <td>265.8</td>\n",
       "      <td>726.90</td>\n",
       "      <td>36.26</td>\n",
       "      <td>34.89</td>\n",
       "      <td>15.83</td>\n",
       "      <td>12.65</td>\n",
       "    </tr>\n",
       "    <tr>\n",
       "      <th>28</th>\n",
       "      <td>263.8</td>\n",
       "      <td>697.15</td>\n",
       "      <td>37.20</td>\n",
       "      <td>36.27</td>\n",
       "      <td>16.71</td>\n",
       "      <td>14.06</td>\n",
       "    </tr>\n",
       "  </tbody>\n",
       "</table>\n",
       "</div>"
      ],
      "text/plain": [
       "        y      x1     x2     x3     x4     X5\n",
       "0   271.8  783.35  33.53  40.55  16.66  13.20\n",
       "1   264.0  748.45  36.50  36.19  16.46  14.11\n",
       "2   238.8  684.45  34.66  37.31  17.66  15.68\n",
       "3   230.7  827.80  33.13  32.52  17.50  10.53\n",
       "4   251.6  860.45  35.75  33.71  16.40  11.00\n",
       "5   257.9  875.15  34.46  34.14  16.28  11.31\n",
       "6   263.9  909.45  34.60  34.85  16.06  11.96\n",
       "7   266.5  905.55  35.38  35.89  15.93  12.58\n",
       "8   229.1  756.00  35.85  33.53  16.60  10.66\n",
       "9   239.3  769.35  35.68  33.79  16.41  10.85\n",
       "10  258.0  793.50  35.35  34.72  16.17  11.41\n",
       "11  257.6  801.65  35.04  35.22  15.92  11.91\n",
       "12  267.3  819.65  34.07  36.50  16.04  12.85\n",
       "13  267.0  808.55  32.20  37.60  16.19  13.58\n",
       "14  259.6  774.95  34.32  37.89  16.62  14.21\n",
       "15  240.4  711.85  31.08  37.71  17.37  15.56\n",
       "16  227.2  694.85  35.73  37.00  18.12  15.83\n",
       "17  196.0  638.10  34.11  36.76  18.53  16.41\n",
       "18  278.7  774.55  34.79  34.62  15.54  13.10\n",
       "19  272.3  757.90  35.77  35.40  15.70  13.63\n",
       "20  267.4  753.35  36.44  35.96  16.45  14.51\n",
       "21  254.5  704.70  37.82  36.26  17.62  15.38\n",
       "22  224.7  666.80  35.07  36.34  18.12  16.10\n",
       "23  181.5  568.55  35.26  35.90  19.05  16.73\n",
       "24  227.5  653.10  35.56  31.84  16.51  10.58\n",
       "25  253.6  704.05  35.73  33.16  16.02  11.28\n",
       "26  263.0  709.60  36.46  33.83  15.89  11.91\n",
       "27  265.8  726.90  36.26  34.89  15.83  12.65\n",
       "28  263.8  697.15  37.20  36.27  16.71  14.06"
      ]
     },
     "execution_count": 82,
     "metadata": {},
     "output_type": "execute_result"
    }
   ],
   "source": [
    "table2 = pd.read_csv('table2.txt', sep='\\t')\n",
    "table2"
   ]
  },
  {
   "cell_type": "markdown",
   "metadata": {},
   "source": [
    "## 2-a. Fit a simple linear regression model relating total heat flux y (kilowatts) to the radial deflection of the deflected rays x4 (milliradians)."
   ]
  },
  {
   "cell_type": "code",
   "execution_count": 86,
   "metadata": {},
   "outputs": [
    {
     "data": {
      "text/plain": [
       "const    645.159727\n",
       "x4       -23.555447\n",
       "dtype: float64"
      ]
     },
     "execution_count": 86,
     "metadata": {},
     "output_type": "execute_result"
    }
   ],
   "source": [
    "# table2 presents data collected during a solar energy project at Georgia Tech.\n",
    "# Fit a simple linear regression model relating total heat flux y (kilowatts) to the radial deflection of the deflected rays x4 (milliradians).\n",
    "# create X and y\n",
    "X = table2['x4']\n",
    "y = table2['y']\n",
    "# Create Train and Test Data sets (70% and 30% or 80% and 20%)\n",
    "X_train, X_test, y_train, y_test = train_test_split(X, y, train_size=0.7, random_state=100)\n",
    "# Train the model using the training sets (statsmodels)\n",
    "X_train_sm = sm.add_constant(X_train)\n",
    "X_train_sm.head()\n",
    "\n",
    "# Training(fitting) the model\n",
    "lr = sm.OLS(y_train, X_train_sm) # initialization\n",
    "lr_model = lr.fit() # fitting / training\n",
    "lr_model.params"
   ]
  },
  {
   "cell_type": "code",
   "execution_count": 87,
   "metadata": {},
   "outputs": [
    {
     "name": "stdout",
     "output_type": "stream",
     "text": [
      "(20, 1)\n",
      "(20,)\n",
      "(9, 1)\n",
      "(9,)\n",
      "645.1597270948424\n",
      "[-23.5554473]\n"
     ]
    }
   ],
   "source": [
    "from sklearn.model_selection import train_test_split\n",
    "from scipy import stats\n",
    "\n",
    "X_train_lm, X_test_lm, y_train_lm, y_test_lm = train_test_split(X, y, train_size = 0.7, test_size = 0.3, random_state = 100)\n",
    "\n",
    "X_train_lm = X_train_lm.values.reshape(-1,1)\n",
    "X_test_lm = X_test_lm.values.reshape(-1,1)\n",
    "print(X_train_lm.shape)\n",
    "print(y_train_lm.shape)\n",
    "print(X_test_lm.shape)\n",
    "print(y_test_lm.shape)\n",
    "\n",
    "from sklearn.linear_model import LinearRegression\n",
    "\n",
    "# Representing LinearRegression as lm(Creating LinearRegression Object)\n",
    "lm = LinearRegression()\n",
    "\n",
    "# Fit the model using lr.fit()\n",
    "lm.fit(X_train_lm, y_train_lm)\n",
    "print(lm.intercept_)\n",
    "print(lm.coef_)"
   ]
  },
  {
   "cell_type": "code",
   "execution_count": 89,
   "metadata": {},
   "outputs": [
    {
     "data": {
      "text/plain": [
       "<matplotlib.collections.PathCollection at 0x28656ba50>"
      ]
     },
     "execution_count": 89,
     "metadata": {},
     "output_type": "execute_result"
    },
    {
     "data": {
      "image/png": "[encoded data removed]",
      "text/plain": [
       "<Figure size 640x480 with 1 Axes>"
      ]
     },
     "metadata": {},
     "output_type": "display_data"
    }
   ],
   "source": [
    "# visualize\n",
    "plt.scatter(X_train, y_train)\n"
   ]
  },
  {
   "cell_type": "code",
   "execution_count": 90,
   "metadata": {},
   "outputs": [
    {
     "data": {
      "image/png": "[encoded data removed]",
      "text/plain": [
       "<Figure size 640x480 with 1 Axes>"
      ]
     },
     "metadata": {},
     "output_type": "display_data"
    }
   ],
   "source": [
    "# Scatterplot with regression line\n",
    "plt.scatter(X_train, y_train)\n",
    "plt.plot(X_train, 645.1597+(-23.5554)*X_train,'r')\n",
    "plt.show()"
   ]
  },
  {
   "cell_type": "markdown",
   "metadata": {},
   "source": [
    "## 2-b. Construct the analysis-of-variance table and test for significance of regression."
   ]
  },
  {
   "cell_type": "code",
   "execution_count": 91,
   "metadata": {},
   "outputs": [
    {
     "name": "stdout",
     "output_type": "stream",
     "text": [
      "1.0516032489249483e-12\n",
      "13     3.202965\n",
      "21    24.387254\n",
      "4     -7.250391\n",
      "28    12.251797\n",
      "0     19.074025\n",
      "1      6.562935\n",
      "17   -12.677289\n",
      "14     5.931807\n",
      "18    -0.408076\n",
      "19    -3.039205\n",
      "2      9.629472\n",
      "20     9.727381\n",
      "10    -6.268144\n",
      "16     8.864978\n",
      "15     4.398392\n",
      "23   -14.928456\n",
      "7     -3.421452\n",
      "3     -2.239399\n",
      "24   -28.759292\n",
      "8    -25.039302\n",
      "dtype: float64\n"
     ]
    }
   ],
   "source": [
    "y_train_pred=lr_model.predict(X_train_sm)\n",
    "residual = y_train-y_train_pred\n",
    "print(residual.sum())\n",
    "print(residual)"
   ]
  },
  {
   "cell_type": "code",
   "execution_count": 92,
   "metadata": {},
   "outputs": [
    {
     "data": {
      "text/plain": [
       "Text(0.5, 1.0, 'Residual Plot')"
      ]
     },
     "execution_count": 92,
     "metadata": {},
     "output_type": "execute_result"
    },
    {
     "data": {
      "text/plain": [
       "<Figure size 640x480 with 0 Axes>"
      ]
     },
     "metadata": {},
     "output_type": "display_data"
    },
    {
     "data": {
      "image/png": "[encoded data removed]",
      "text/plain": [
       "<Figure size 500x500 with 1 Axes>"
      ]
     },
     "metadata": {},
     "output_type": "display_data"
    }
   ],
   "source": [
    "plt.figure()\n",
    "sns.displot(residual)\n",
    "plt.title(\"Residual Plot\")"
   ]
  },
  {
   "cell_type": "code",
   "execution_count": 93,
   "metadata": {},
   "outputs": [
    {
     "data": {
      "image/png": "[encoded data removed]",
      "text/plain": [
       "<Figure size 640x480 with 1 Axes>"
      ]
     },
     "metadata": {},
     "output_type": "display_data"
    }
   ],
   "source": [
    "plt.scatter(X_train, residual)\n",
    "plt.show()"
   ]
  },
  {
   "cell_type": "code",
   "execution_count": 94,
   "metadata": {},
   "outputs": [
    {
     "data": {
      "text/html": [
       "<table class=\"simpletable\">\n",
       "<caption>OLS Regression Results</caption>\n",
       "<tr>\n",
       "  <th>Dep. Variable:</th>            <td>y</td>        <th>  R-squared:         </th> <td>   0.730</td>\n",
       "</tr>\n",
       "<tr>\n",
       "  <th>Model:</th>                   <td>OLS</td>       <th>  Adj. R-squared:    </th> <td>   0.715</td>\n",
       "</tr>\n",
       "<tr>\n",
       "  <th>Method:</th>             <td>Least Squares</td>  <th>  F-statistic:       </th> <td>   48.72</td>\n",
       "</tr>\n",
       "<tr>\n",
       "  <th>Date:</th>             <td>Wed, 04 Oct 2023</td> <th>  Prob (F-statistic):</th> <td>1.61e-06</td>\n",
       "</tr>\n",
       "<tr>\n",
       "  <th>Time:</th>                 <td>13:39:48</td>     <th>  Log-Likelihood:    </th> <td> -79.848</td>\n",
       "</tr>\n",
       "<tr>\n",
       "  <th>No. Observations:</th>      <td>    20</td>      <th>  AIC:               </th> <td>   163.7</td>\n",
       "</tr>\n",
       "<tr>\n",
       "  <th>Df Residuals:</th>          <td>    18</td>      <th>  BIC:               </th> <td>   165.7</td>\n",
       "</tr>\n",
       "<tr>\n",
       "  <th>Df Model:</th>              <td>     1</td>      <th>                     </th>     <td> </td>   \n",
       "</tr>\n",
       "<tr>\n",
       "  <th>Covariance Type:</th>      <td>nonrobust</td>    <th>                     </th>     <td> </td>   \n",
       "</tr>\n",
       "</table>\n",
       "<table class=\"simpletable\">\n",
       "<tr>\n",
       "    <td></td>       <th>coef</th>     <th>std err</th>      <th>t</th>      <th>P>|t|</th>  <th>[0.025</th>    <th>0.975]</th>  \n",
       "</tr>\n",
       "<tr>\n",
       "  <th>const</th> <td>  645.1597</td> <td>   57.083</td> <td>   11.302</td> <td> 0.000</td> <td>  525.233</td> <td>  765.086</td>\n",
       "</tr>\n",
       "<tr>\n",
       "  <th>x4</th>    <td>  -23.5554</td> <td>    3.375</td> <td>   -6.980</td> <td> 0.000</td> <td>  -30.646</td> <td>  -16.465</td>\n",
       "</tr>\n",
       "</table>\n",
       "<table class=\"simpletable\">\n",
       "<tr>\n",
       "  <th>Omnibus:</th>       <td> 1.073</td> <th>  Durbin-Watson:     </th> <td>   1.363</td>\n",
       "</tr>\n",
       "<tr>\n",
       "  <th>Prob(Omnibus):</th> <td> 0.585</td> <th>  Jarque-Bera (JB):  </th> <td>   0.617</td>\n",
       "</tr>\n",
       "<tr>\n",
       "  <th>Skew:</th>          <td>-0.425</td> <th>  Prob(JB):          </th> <td>   0.735</td>\n",
       "</tr>\n",
       "<tr>\n",
       "  <th>Kurtosis:</th>      <td> 2.865</td> <th>  Cond. No.          </th> <td>    314.</td>\n",
       "</tr>\n",
       "</table><br/><br/>Notes:<br/>[1] Standard Errors assume that the covariance matrix of the errors is correctly specified."
      ],
      "text/latex": [
       "\\begin{center}\n",
       "\\begin{tabular}{lclc}\n",
       "\\toprule\n",
       "\\textbf{Dep. Variable:}    &        y         & \\textbf{  R-squared:         } &     0.730   \\\\\n",
       "\\textbf{Model:}            &       OLS        & \\textbf{  Adj. R-squared:    } &     0.715   \\\\\n",
       "\\textbf{Method:}           &  Least Squares   & \\textbf{  F-statistic:       } &     48.72   \\\\\n",
       "\\textbf{Date:}             & Wed, 04 Oct 2023 & \\textbf{  Prob (F-statistic):} &  1.61e-06   \\\\\n",
       "\\textbf{Time:}             &     13:39:48     & \\textbf{  Log-Likelihood:    } &   -79.848   \\\\\n",
       "\\textbf{No. Observations:} &          20      & \\textbf{  AIC:               } &     163.7   \\\\\n",
       "\\textbf{Df Residuals:}     &          18      & \\textbf{  BIC:               } &     165.7   \\\\\n",
       "\\textbf{Df Model:}         &           1      & \\textbf{                     } &             \\\\\n",
       "\\textbf{Covariance Type:}  &    nonrobust     & \\textbf{                     } &             \\\\\n",
       "\\bottomrule\n",
       "\\end{tabular}\n",
       "\\begin{tabular}{lcccccc}\n",
       "               & \\textbf{coef} & \\textbf{std err} & \\textbf{t} & \\textbf{P$> |$t$|$} & \\textbf{[0.025} & \\textbf{0.975]}  \\\\\n",
       "\\midrule\n",
       "\\textbf{const} &     645.1597  &       57.083     &    11.302  &         0.000        &      525.233    &      765.086     \\\\\n",
       "\\textbf{x4}    &     -23.5554  &        3.375     &    -6.980  &         0.000        &      -30.646    &      -16.465     \\\\\n",
       "\\bottomrule\n",
       "\\end{tabular}\n",
       "\\begin{tabular}{lclc}\n",
       "\\textbf{Omnibus:}       &  1.073 & \\textbf{  Durbin-Watson:     } &    1.363  \\\\\n",
       "\\textbf{Prob(Omnibus):} &  0.585 & \\textbf{  Jarque-Bera (JB):  } &    0.617  \\\\\n",
       "\\textbf{Skew:}          & -0.425 & \\textbf{  Prob(JB):          } &    0.735  \\\\\n",
       "\\textbf{Kurtosis:}      &  2.865 & \\textbf{  Cond. No.          } &     314.  \\\\\n",
       "\\bottomrule\n",
       "\\end{tabular}\n",
       "%\\caption{OLS Regression Results}\n",
       "\\end{center}\n",
       "\n",
       "Notes: \\newline\n",
       " [1] Standard Errors assume that the covariance matrix of the errors is correctly specified."
      ],
      "text/plain": [
       "<class 'statsmodels.iolib.summary.Summary'>\n",
       "\"\"\"\n",
       "                            OLS Regression Results                            \n",
       "==============================================================================\n",
       "Dep. Variable:                      y   R-squared:                       0.730\n",
       "Model:                            OLS   Adj. R-squared:                  0.715\n",
       "Method:                 Least Squares   F-statistic:                     48.72\n",
       "Date:                Wed, 04 Oct 2023   Prob (F-statistic):           1.61e-06\n",
       "Time:                        13:39:48   Log-Likelihood:                -79.848\n",
       "No. Observations:                  20   AIC:                             163.7\n",
       "Df Residuals:                      18   BIC:                             165.7\n",
       "Df Model:                           1                                         \n",
       "Covariance Type:            nonrobust                                         \n",
       "==============================================================================\n",
       "                 coef    std err          t      P>|t|      [0.025      0.975]\n",
       "------------------------------------------------------------------------------\n",
       "const        645.1597     57.083     11.302      0.000     525.233     765.086\n",
       "x4           -23.5554      3.375     -6.980      0.000     -30.646     -16.465\n",
       "==============================================================================\n",
       "Omnibus:                        1.073   Durbin-Watson:                   1.363\n",
       "Prob(Omnibus):                  0.585   Jarque-Bera (JB):                0.617\n",
       "Skew:                          -0.425   Prob(JB):                        0.735\n",
       "Kurtosis:                       2.865   Cond. No.                         314.\n",
       "==============================================================================\n",
       "\n",
       "Notes:\n",
       "[1] Standard Errors assume that the covariance matrix of the errors is correctly specified.\n",
       "\"\"\""
      ]
     },
     "execution_count": 94,
     "metadata": {},
     "output_type": "execute_result"
    }
   ],
   "source": [
    "lr_model.summary() # OLS"
   ]
  },
  {
   "cell_type": "markdown",
   "metadata": {},
   "source": [
    "## 2-c. Find a 99% CI on the slope."
   ]
  },
  {
   "cell_type": "code",
   "execution_count": 95,
   "metadata": {},
   "outputs": [
    {
     "name": "stdout",
     "output_type": "stream",
     "text": [
      "[[-23.66921134 -23.44168325]]\n"
     ]
    }
   ],
   "source": [
    "coefficients = lm.coef_\n",
    "mse_resid = np.mean((lm.predict(X_train_lm) - y_train_lm) ** 2)\n",
    "n = len(y_train_lm)\n",
    "k = len(X_train_lm[0])\n",
    "std_err = np.sqrt(mse_resid / (n - k) * np.diag(np.linalg.inv(np.dot(X_train_lm.T, X_train_lm))))\n",
    "alpha = 0.01\n",
    "t_value = stats.t.ppf(1 - alpha / 2, n - k)\n",
    "conf_int = np.vstack((coefficients - t_value * std_err, coefficients + t_value * std_err)).T\n",
    "print(conf_int)"
   ]
  },
  {
   "cell_type": "markdown",
   "metadata": {},
   "source": [
    "## 2-d. Calculate R2."
   ]
  },
  {
   "cell_type": "code",
   "execution_count": 98,
   "metadata": {},
   "outputs": [
    {
     "name": "stdout",
     "output_type": "stream",
     "text": [
      "Mean_Squared_Error : 99.97207514000547\n",
      "r_square_value : 0.43499054661161696\n"
     ]
    }
   ],
   "source": [
    "prediction = lm.predict(X_test_lm)\n",
    "residual = (y_test_lm - prediction)\n",
    "from sklearn.metrics import mean_squared_error, r2_score\n",
    "mse = mean_squared_error(y_test_lm, prediction)\n",
    "r_squared = r2_score(y_test_lm, prediction)\n",
    "print('Mean_Squared_Error :' ,mse)\n",
    "print('r_square_value :',r_squared)"
   ]
  }
 ],
 "metadata": {
  "kernelspec": {
   "display_name": "Python 3",
   "language": "python",
   "name": "python3"
  },
  "language_info": {
   "codemirror_mode": {
    "name": "ipython",
    "version": 3
   },
   "file_extension": ".py",
   "mimetype": "text/x-python",
   "name": "python",
   "nbconvert_exporter": "python",
   "pygments_lexer": "ipython3",
   "version": "3.11.3"
  },
  "orig_nbformat": 4
 },
 "nbformat": 4,
 "nbformat_minor": 2
}
