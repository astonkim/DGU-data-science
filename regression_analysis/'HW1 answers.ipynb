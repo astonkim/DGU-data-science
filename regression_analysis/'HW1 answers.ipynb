{
  "cells": [
    {
      "cell_type": "markdown",
      "metadata": {
        "id": "lpRXDlyco6L8"
      },
      "source": [
        "# HW1"
      ]
    },
    {
      "cell_type": "code",
      "execution_count": 1,
      "metadata": {
        "id": "pQbCGg7dpJkU"
      },
      "outputs": [],
      "source": [
        "import pandas as pd"
      ]
    },
    {
      "cell_type": "markdown",
      "metadata": {
        "id": "kKb9MtBirjLo"
      },
      "source": [
        "# Prob 1"
      ]
    },
    {
      "cell_type": "code",
      "execution_count": 2,
      "metadata": {
        "id": "1fDqhjdzpFmW"
      },
      "outputs": [],
      "source": [
        "# Prob 1\n",
        "\n",
        "data_table1 = pd.read_csv(\"table1.txt\", sep='\\t')"
      ]
    },
    {
      "cell_type": "markdown",
      "metadata": {
        "id": "wrVvACEYrhs4"
      },
      "source": [
        "# Prob 1.1"
      ]
    },
    {
      "cell_type": "code",
      "execution_count": 3,
      "metadata": {
        "colab": {
          "base_uri": "https://localhost:8080/"
        },
        "id": "fs1p-2UcmB-k",
        "outputId": "25b58240-23d9-474e-d38b-db5f6ed0fe12"
      },
      "outputs": [
        {
          "data": {
            "text/plain": [
              "const    21.788251\n",
              "X8       -0.007025\n",
              "dtype: float64"
            ]
          },
          "execution_count": 3,
          "metadata": {},
          "output_type": "execute_result"
        }
      ],
      "source": [
        "# Prob1.1\n",
        "import statsmodels.api as sm\n",
        "\n",
        "# Extracting the response variable y and predictor variable x8\n",
        "y = data_table1['y']\n",
        "x8 = data_table1['X8']\n",
        "\n",
        "# Adding a constant for intercept term\n",
        "x8 = sm.add_constant(x8)\n",
        "\n",
        "# Fitting the linear regression model\n",
        "model = sm.OLS(y, x8).fit()\n",
        "\n",
        "model.params"
      ]
    },
    {
      "cell_type": "markdown",
      "metadata": {
        "id": "gF5LKDOtrf73"
      },
      "source": [
        "# Prob 1.2"
      ]
    },
    {
      "cell_type": "code",
      "execution_count": 4,
      "metadata": {
        "colab": {
          "base_uri": "https://localhost:8080/",
          "height": 469
        },
        "id": "wYed-k1SpNWF",
        "outputId": "dc2ee5db-9e50-4c8a-d0d4-8611b75e6db2"
      },
      "outputs": [
        {
          "data": {
            "text/html": [
              "<table class=\"simpletable\">\n",
              "<caption>OLS Regression Results</caption>\n",
              "<tr>\n",
              "  <th>Dep. Variable:</th>            <td>y</td>        <th>  R-squared:         </th> <td>   0.545</td>\n",
              "</tr>\n",
              "<tr>\n",
              "  <th>Model:</th>                   <td>OLS</td>       <th>  Adj. R-squared:    </th> <td>   0.527</td>\n",
              "</tr>\n",
              "<tr>\n",
              "  <th>Method:</th>             <td>Least Squares</td>  <th>  F-statistic:       </th> <td>   31.10</td>\n",
              "</tr>\n",
              "<tr>\n",
              "  <th>Date:</th>             <td>Sun, 29 Oct 2023</td> <th>  Prob (F-statistic):</th> <td>7.38e-06</td>\n",
              "</tr>\n",
              "<tr>\n",
              "  <th>Time:</th>                 <td>19:43:13</td>     <th>  Log-Likelihood:    </th> <td> -63.123</td>\n",
              "</tr>\n",
              "<tr>\n",
              "  <th>No. Observations:</th>      <td>    28</td>      <th>  AIC:               </th> <td>   130.2</td>\n",
              "</tr>\n",
              "<tr>\n",
              "  <th>Df Residuals:</th>          <td>    26</td>      <th>  BIC:               </th> <td>   132.9</td>\n",
              "</tr>\n",
              "<tr>\n",
              "  <th>Df Model:</th>              <td>     1</td>      <th>                     </th>     <td> </td>   \n",
              "</tr>\n",
              "<tr>\n",
              "  <th>Covariance Type:</th>      <td>nonrobust</td>    <th>                     </th>     <td> </td>   \n",
              "</tr>\n",
              "</table>\n",
              "<table class=\"simpletable\">\n",
              "<tr>\n",
              "    <td></td>       <th>coef</th>     <th>std err</th>      <th>t</th>      <th>P>|t|</th>  <th>[0.025</th>    <th>0.975]</th>  \n",
              "</tr>\n",
              "<tr>\n",
              "  <th>const</th> <td>   21.7883</td> <td>    2.696</td> <td>    8.081</td> <td> 0.000</td> <td>   16.246</td> <td>   27.330</td>\n",
              "</tr>\n",
              "<tr>\n",
              "  <th>X8</th>    <td>   -0.0070</td> <td>    0.001</td> <td>   -5.577</td> <td> 0.000</td> <td>   -0.010</td> <td>   -0.004</td>\n",
              "</tr>\n",
              "</table>\n",
              "<table class=\"simpletable\">\n",
              "<tr>\n",
              "  <th>Omnibus:</th>       <td> 2.076</td> <th>  Durbin-Watson:     </th> <td>   1.566</td>\n",
              "</tr>\n",
              "<tr>\n",
              "  <th>Prob(Omnibus):</th> <td> 0.354</td> <th>  Jarque-Bera (JB):  </th> <td>   1.402</td>\n",
              "</tr>\n",
              "<tr>\n",
              "  <th>Skew:</th>          <td> 0.305</td> <th>  Prob(JB):          </th> <td>   0.496</td>\n",
              "</tr>\n",
              "<tr>\n",
              "  <th>Kurtosis:</th>      <td> 2.089</td> <th>  Cond. No.          </th> <td>1.28e+04</td>\n",
              "</tr>\n",
              "</table><br/><br/>Notes:<br/>[1] Standard Errors assume that the covariance matrix of the errors is correctly specified.<br/>[2] The condition number is large, 1.28e+04. This might indicate that there are<br/>strong multicollinearity or other numerical problems."
            ],
            "text/latex": [
              "\\begin{center}\n",
              "\\begin{tabular}{lclc}\n",
              "\\toprule\n",
              "\\textbf{Dep. Variable:}    &        y         & \\textbf{  R-squared:         } &     0.545   \\\\\n",
              "\\textbf{Model:}            &       OLS        & \\textbf{  Adj. R-squared:    } &     0.527   \\\\\n",
              "\\textbf{Method:}           &  Least Squares   & \\textbf{  F-statistic:       } &     31.10   \\\\\n",
              "\\textbf{Date:}             & Sun, 29 Oct 2023 & \\textbf{  Prob (F-statistic):} &  7.38e-06   \\\\\n",
              "\\textbf{Time:}             &     19:43:13     & \\textbf{  Log-Likelihood:    } &   -63.123   \\\\\n",
              "\\textbf{No. Observations:} &          28      & \\textbf{  AIC:               } &     130.2   \\\\\n",
              "\\textbf{Df Residuals:}     &          26      & \\textbf{  BIC:               } &     132.9   \\\\\n",
              "\\textbf{Df Model:}         &           1      & \\textbf{                     } &             \\\\\n",
              "\\textbf{Covariance Type:}  &    nonrobust     & \\textbf{                     } &             \\\\\n",
              "\\bottomrule\n",
              "\\end{tabular}\n",
              "\\begin{tabular}{lcccccc}\n",
              "               & \\textbf{coef} & \\textbf{std err} & \\textbf{t} & \\textbf{P$> |$t$|$} & \\textbf{[0.025} & \\textbf{0.975]}  \\\\\n",
              "\\midrule\n",
              "\\textbf{const} &      21.7883  &        2.696     &     8.081  &         0.000        &       16.246    &       27.330     \\\\\n",
              "\\textbf{X8}    &      -0.0070  &        0.001     &    -5.577  &         0.000        &       -0.010    &       -0.004     \\\\\n",
              "\\bottomrule\n",
              "\\end{tabular}\n",
              "\\begin{tabular}{lclc}\n",
              "\\textbf{Omnibus:}       &  2.076 & \\textbf{  Durbin-Watson:     } &    1.566  \\\\\n",
              "\\textbf{Prob(Omnibus):} &  0.354 & \\textbf{  Jarque-Bera (JB):  } &    1.402  \\\\\n",
              "\\textbf{Skew:}          &  0.305 & \\textbf{  Prob(JB):          } &    0.496  \\\\\n",
              "\\textbf{Kurtosis:}      &  2.089 & \\textbf{  Cond. No.          } & 1.28e+04  \\\\\n",
              "\\bottomrule\n",
              "\\end{tabular}\n",
              "%\\caption{OLS Regression Results}\n",
              "\\end{center}\n",
              "\n",
              "Notes: \\newline\n",
              " [1] Standard Errors assume that the covariance matrix of the errors is correctly specified. \\newline\n",
              " [2] The condition number is large, 1.28e+04. This might indicate that there are \\newline\n",
              " strong multicollinearity or other numerical problems."
            ],
            "text/plain": [
              "<class 'statsmodels.iolib.summary.Summary'>\n",
              "\"\"\"\n",
              "                            OLS Regression Results                            \n",
              "==============================================================================\n",
              "Dep. Variable:                      y   R-squared:                       0.545\n",
              "Model:                            OLS   Adj. R-squared:                  0.527\n",
              "Method:                 Least Squares   F-statistic:                     31.10\n",
              "Date:                Sun, 29 Oct 2023   Prob (F-statistic):           7.38e-06\n",
              "Time:                        19:43:13   Log-Likelihood:                -63.123\n",
              "No. Observations:                  28   AIC:                             130.2\n",
              "Df Residuals:                      26   BIC:                             132.9\n",
              "Df Model:                           1                                         \n",
              "Covariance Type:            nonrobust                                         \n",
              "==============================================================================\n",
              "                 coef    std err          t      P>|t|      [0.025      0.975]\n",
              "------------------------------------------------------------------------------\n",
              "const         21.7883      2.696      8.081      0.000      16.246      27.330\n",
              "X8            -0.0070      0.001     -5.577      0.000      -0.010      -0.004\n",
              "==============================================================================\n",
              "Omnibus:                        2.076   Durbin-Watson:                   1.566\n",
              "Prob(Omnibus):                  0.354   Jarque-Bera (JB):                1.402\n",
              "Skew:                           0.305   Prob(JB):                        0.496\n",
              "Kurtosis:                       2.089   Cond. No.                     1.28e+04\n",
              "==============================================================================\n",
              "\n",
              "Notes:\n",
              "[1] Standard Errors assume that the covariance matrix of the errors is correctly specified.\n",
              "[2] The condition number is large, 1.28e+04. This might indicate that there are\n",
              "strong multicollinearity or other numerical problems.\n",
              "\"\"\""
            ]
          },
          "execution_count": 4,
          "metadata": {},
          "output_type": "execute_result"
        }
      ],
      "source": [
        "# Prob 1.2\n",
        "# Constructing the ANOVA table\n",
        "\n",
        "model.summary()"
      ]
    },
    {
      "cell_type": "markdown",
      "metadata": {
        "id": "rngGJ32mrdwu"
      },
      "source": [
        "# Prob 1.3"
      ]
    },
    {
      "cell_type": "code",
      "execution_count": 5,
      "metadata": {
        "colab": {
          "base_uri": "https://localhost:8080/"
        },
        "id": "e73XlQAgpbrU",
        "outputId": "2a9b126c-c000-40ad-b5fc-7febff44130f"
      },
      "outputs": [
        {
          "data": {
            "text/plain": [
              "0   -0.009614\n",
              "1   -0.004436\n",
              "Name: X8, dtype: float64"
            ]
          },
          "execution_count": 5,
          "metadata": {},
          "output_type": "execute_result"
        }
      ],
      "source": [
        "# Prob 1.3\n",
        "# Extracting the 95% confidence interval for the slope (x8 coefficient)\n",
        "slope_ci = model.conf_int().loc['X8']\n",
        "\n",
        "slope_ci"
      ]
    },
    {
      "cell_type": "markdown",
      "metadata": {
        "id": "VywKjMZApx_2"
      },
      "source": [
        "# Prob 1.4\n",
        "# The answer to this question is provided by the $R^2$ value, which was found to be 0.545 or 54.5% from the regression output."
      ]
    },
    {
      "cell_type": "markdown",
      "metadata": {
        "id": "4tlrSc1brbhX"
      },
      "source": [
        "# Prob 1.5"
      ]
    },
    {
      "cell_type": "code",
      "execution_count": 6,
      "metadata": {
        "colab": {
          "base_uri": "https://localhost:8080/"
        },
        "id": "mInVsLzHp6-N",
        "outputId": "ab9a73be-e95d-410d-f179-2d9ba08d1b78"
      },
      "outputs": [
        {
          "data": {
            "text/plain": [
              "array([[6.76575309, 8.71034757]])"
            ]
          },
          "execution_count": 6,
          "metadata": {},
          "output_type": "execute_result"
        }
      ],
      "source": [
        "# Prob 1.5\n",
        "# Predicting the mean number of games won for x8 = 2000 with a 95% confidence interval\n",
        "prediction = model.get_prediction(exog=[[1, 2000]])\n",
        "ci_mean = prediction.conf_int()\n",
        "\n",
        "ci_mean"
      ]
    },
    {
      "cell_type": "markdown",
      "metadata": {
        "id": "hBjJeM82sY-s"
      },
      "source": [
        "------"
      ]
    },
    {
      "cell_type": "markdown",
      "metadata": {
        "id": "BLVBj8g4sbpH"
      },
      "source": [
        "# Prob 2"
      ]
    },
    {
      "cell_type": "code",
      "execution_count": 7,
      "metadata": {
        "colab": {
          "base_uri": "https://localhost:8080/",
          "height": 206
        },
        "id": "oKHKq9fjs4eI",
        "outputId": "3d30d96d-19f4-4778-853a-6e752701370d"
      },
      "outputs": [
        {
          "data": {
            "text/html": [
              "<div>\n",
              "<style scoped>\n",
              "    .dataframe tbody tr th:only-of-type {\n",
              "        vertical-align: middle;\n",
              "    }\n",
              "\n",
              "    .dataframe tbody tr th {\n",
              "        vertical-align: top;\n",
              "    }\n",
              "\n",
              "    .dataframe thead th {\n",
              "        text-align: right;\n",
              "    }\n",
              "</style>\n",
              "<table border=\"1\" class=\"dataframe\">\n",
              "  <thead>\n",
              "    <tr style=\"text-align: right;\">\n",
              "      <th></th>\n",
              "      <th>y</th>\n",
              "      <th>x1</th>\n",
              "      <th>x2</th>\n",
              "      <th>x3</th>\n",
              "      <th>x4</th>\n",
              "      <th>X5</th>\n",
              "    </tr>\n",
              "  </thead>\n",
              "  <tbody>\n",
              "    <tr>\n",
              "      <th>0</th>\n",
              "      <td>271.8</td>\n",
              "      <td>783.35</td>\n",
              "      <td>33.53</td>\n",
              "      <td>40.55</td>\n",
              "      <td>16.66</td>\n",
              "      <td>13.20</td>\n",
              "    </tr>\n",
              "    <tr>\n",
              "      <th>1</th>\n",
              "      <td>264.0</td>\n",
              "      <td>748.45</td>\n",
              "      <td>36.50</td>\n",
              "      <td>36.19</td>\n",
              "      <td>16.46</td>\n",
              "      <td>14.11</td>\n",
              "    </tr>\n",
              "    <tr>\n",
              "      <th>2</th>\n",
              "      <td>238.8</td>\n",
              "      <td>684.45</td>\n",
              "      <td>34.66</td>\n",
              "      <td>37.31</td>\n",
              "      <td>17.66</td>\n",
              "      <td>15.68</td>\n",
              "    </tr>\n",
              "    <tr>\n",
              "      <th>3</th>\n",
              "      <td>230.7</td>\n",
              "      <td>827.80</td>\n",
              "      <td>33.13</td>\n",
              "      <td>32.52</td>\n",
              "      <td>17.50</td>\n",
              "      <td>10.53</td>\n",
              "    </tr>\n",
              "    <tr>\n",
              "      <th>4</th>\n",
              "      <td>251.6</td>\n",
              "      <td>860.45</td>\n",
              "      <td>35.75</td>\n",
              "      <td>33.71</td>\n",
              "      <td>16.40</td>\n",
              "      <td>11.00</td>\n",
              "    </tr>\n",
              "  </tbody>\n",
              "</table>\n",
              "</div>"
            ],
            "text/plain": [
              "       y      x1     x2     x3     x4     X5\n",
              "0  271.8  783.35  33.53  40.55  16.66  13.20\n",
              "1  264.0  748.45  36.50  36.19  16.46  14.11\n",
              "2  238.8  684.45  34.66  37.31  17.66  15.68\n",
              "3  230.7  827.80  33.13  32.52  17.50  10.53\n",
              "4  251.6  860.45  35.75  33.71  16.40  11.00"
            ]
          },
          "execution_count": 7,
          "metadata": {},
          "output_type": "execute_result"
        }
      ],
      "source": [
        "# Prob 2\n",
        "\n",
        "data_table2 = pd.read_csv(\"table2.txt\", sep='\\t')\n",
        "data_table2.head()"
      ]
    },
    {
      "cell_type": "markdown",
      "metadata": {
        "id": "h3CA1pS_s1bX"
      },
      "source": [
        "# Prob 2.1"
      ]
    },
    {
      "cell_type": "code",
      "execution_count": 8,
      "metadata": {
        "colab": {
          "base_uri": "https://localhost:8080/"
        },
        "id": "e5CnB6jms3QA",
        "outputId": "e8073b8c-f24a-45b8-ec50-7d502c3b5a07"
      },
      "outputs": [
        {
          "data": {
            "text/plain": [
              "const    607.103265\n",
              "x4       -21.402458\n",
              "dtype: float64"
            ]
          },
          "execution_count": 8,
          "metadata": {},
          "output_type": "execute_result"
        }
      ],
      "source": [
        "# Extracting the response variable y and predictor variable x4\n",
        "y_heat_flux = data_table2['y']\n",
        "x4_radial_deflection = data_table2['x4']\n",
        "\n",
        "# Adding a constant for intercept term\n",
        "x4_radial_deflection = sm.add_constant(x4_radial_deflection)\n",
        "\n",
        "# Fitting the linear regression model\n",
        "model_heat_flux = sm.OLS(y_heat_flux, x4_radial_deflection).fit()\n",
        "\n",
        "model_heat_flux.params"
      ]
    },
    {
      "cell_type": "markdown",
      "metadata": {
        "id": "SF9ogi0rtayJ"
      },
      "source": [
        "# Prob 2.2"
      ]
    },
    {
      "cell_type": "code",
      "execution_count": 9,
      "metadata": {
        "colab": {
          "base_uri": "https://localhost:8080/",
          "height": 434
        },
        "id": "dBxxrjMQtQ9p",
        "outputId": "9c828c48-9428-4505-a294-ddd6845466f4"
      },
      "outputs": [
        {
          "data": {
            "text/html": [
              "<table class=\"simpletable\">\n",
              "<caption>OLS Regression Results</caption>\n",
              "<tr>\n",
              "  <th>Dep. Variable:</th>            <td>y</td>        <th>  R-squared:         </th> <td>   0.721</td>\n",
              "</tr>\n",
              "<tr>\n",
              "  <th>Model:</th>                   <td>OLS</td>       <th>  Adj. R-squared:    </th> <td>   0.710</td>\n",
              "</tr>\n",
              "<tr>\n",
              "  <th>Method:</th>             <td>Least Squares</td>  <th>  F-statistic:       </th> <td>   69.61</td>\n",
              "</tr>\n",
              "<tr>\n",
              "  <th>Date:</th>             <td>Sun, 29 Oct 2023</td> <th>  Prob (F-statistic):</th> <td>5.94e-09</td>\n",
              "</tr>\n",
              "<tr>\n",
              "  <th>Time:</th>                 <td>19:44:45</td>     <th>  Log-Likelihood:    </th> <td> -112.96</td>\n",
              "</tr>\n",
              "<tr>\n",
              "  <th>No. Observations:</th>      <td>    29</td>      <th>  AIC:               </th> <td>   229.9</td>\n",
              "</tr>\n",
              "<tr>\n",
              "  <th>Df Residuals:</th>          <td>    27</td>      <th>  BIC:               </th> <td>   232.6</td>\n",
              "</tr>\n",
              "<tr>\n",
              "  <th>Df Model:</th>              <td>     1</td>      <th>                     </th>     <td> </td>   \n",
              "</tr>\n",
              "<tr>\n",
              "  <th>Covariance Type:</th>      <td>nonrobust</td>    <th>                     </th>     <td> </td>   \n",
              "</tr>\n",
              "</table>\n",
              "<table class=\"simpletable\">\n",
              "<tr>\n",
              "    <td></td>       <th>coef</th>     <th>std err</th>      <th>t</th>      <th>P>|t|</th>  <th>[0.025</th>    <th>0.975]</th>  \n",
              "</tr>\n",
              "<tr>\n",
              "  <th>const</th> <td>  607.1033</td> <td>   42.906</td> <td>   14.150</td> <td> 0.000</td> <td>  519.067</td> <td>  695.139</td>\n",
              "</tr>\n",
              "<tr>\n",
              "  <th>x4</th>    <td>  -21.4025</td> <td>    2.565</td> <td>   -8.343</td> <td> 0.000</td> <td>  -26.666</td> <td>  -16.139</td>\n",
              "</tr>\n",
              "</table>\n",
              "<table class=\"simpletable\">\n",
              "<tr>\n",
              "  <th>Omnibus:</th>       <td> 0.520</td> <th>  Durbin-Watson:     </th> <td>   0.963</td>\n",
              "</tr>\n",
              "<tr>\n",
              "  <th>Prob(Omnibus):</th> <td> 0.771</td> <th>  Jarque-Bera (JB):  </th> <td>   0.362</td>\n",
              "</tr>\n",
              "<tr>\n",
              "  <th>Skew:</th>          <td>-0.260</td> <th>  Prob(JB):          </th> <td>   0.834</td>\n",
              "</tr>\n",
              "<tr>\n",
              "  <th>Kurtosis:</th>      <td> 2.828</td> <th>  Cond. No.          </th> <td>    315.</td>\n",
              "</tr>\n",
              "</table><br/><br/>Notes:<br/>[1] Standard Errors assume that the covariance matrix of the errors is correctly specified."
            ],
            "text/latex": [
              "\\begin{center}\n",
              "\\begin{tabular}{lclc}\n",
              "\\toprule\n",
              "\\textbf{Dep. Variable:}    &        y         & \\textbf{  R-squared:         } &     0.721   \\\\\n",
              "\\textbf{Model:}            &       OLS        & \\textbf{  Adj. R-squared:    } &     0.710   \\\\\n",
              "\\textbf{Method:}           &  Least Squares   & \\textbf{  F-statistic:       } &     69.61   \\\\\n",
              "\\textbf{Date:}             & Sun, 29 Oct 2023 & \\textbf{  Prob (F-statistic):} &  5.94e-09   \\\\\n",
              "\\textbf{Time:}             &     19:44:45     & \\textbf{  Log-Likelihood:    } &   -112.96   \\\\\n",
              "\\textbf{No. Observations:} &          29      & \\textbf{  AIC:               } &     229.9   \\\\\n",
              "\\textbf{Df Residuals:}     &          27      & \\textbf{  BIC:               } &     232.6   \\\\\n",
              "\\textbf{Df Model:}         &           1      & \\textbf{                     } &             \\\\\n",
              "\\textbf{Covariance Type:}  &    nonrobust     & \\textbf{                     } &             \\\\\n",
              "\\bottomrule\n",
              "\\end{tabular}\n",
              "\\begin{tabular}{lcccccc}\n",
              "               & \\textbf{coef} & \\textbf{std err} & \\textbf{t} & \\textbf{P$> |$t$|$} & \\textbf{[0.025} & \\textbf{0.975]}  \\\\\n",
              "\\midrule\n",
              "\\textbf{const} &     607.1033  &       42.906     &    14.150  &         0.000        &      519.067    &      695.139     \\\\\n",
              "\\textbf{x4}    &     -21.4025  &        2.565     &    -8.343  &         0.000        &      -26.666    &      -16.139     \\\\\n",
              "\\bottomrule\n",
              "\\end{tabular}\n",
              "\\begin{tabular}{lclc}\n",
              "\\textbf{Omnibus:}       &  0.520 & \\textbf{  Durbin-Watson:     } &    0.963  \\\\\n",
              "\\textbf{Prob(Omnibus):} &  0.771 & \\textbf{  Jarque-Bera (JB):  } &    0.362  \\\\\n",
              "\\textbf{Skew:}          & -0.260 & \\textbf{  Prob(JB):          } &    0.834  \\\\\n",
              "\\textbf{Kurtosis:}      &  2.828 & \\textbf{  Cond. No.          } &     315.  \\\\\n",
              "\\bottomrule\n",
              "\\end{tabular}\n",
              "%\\caption{OLS Regression Results}\n",
              "\\end{center}\n",
              "\n",
              "Notes: \\newline\n",
              " [1] Standard Errors assume that the covariance matrix of the errors is correctly specified."
            ],
            "text/plain": [
              "<class 'statsmodels.iolib.summary.Summary'>\n",
              "\"\"\"\n",
              "                            OLS Regression Results                            \n",
              "==============================================================================\n",
              "Dep. Variable:                      y   R-squared:                       0.721\n",
              "Model:                            OLS   Adj. R-squared:                  0.710\n",
              "Method:                 Least Squares   F-statistic:                     69.61\n",
              "Date:                Sun, 29 Oct 2023   Prob (F-statistic):           5.94e-09\n",
              "Time:                        19:44:45   Log-Likelihood:                -112.96\n",
              "No. Observations:                  29   AIC:                             229.9\n",
              "Df Residuals:                      27   BIC:                             232.6\n",
              "Df Model:                           1                                         \n",
              "Covariance Type:            nonrobust                                         \n",
              "==============================================================================\n",
              "                 coef    std err          t      P>|t|      [0.025      0.975]\n",
              "------------------------------------------------------------------------------\n",
              "const        607.1033     42.906     14.150      0.000     519.067     695.139\n",
              "x4           -21.4025      2.565     -8.343      0.000     -26.666     -16.139\n",
              "==============================================================================\n",
              "Omnibus:                        0.520   Durbin-Watson:                   0.963\n",
              "Prob(Omnibus):                  0.771   Jarque-Bera (JB):                0.362\n",
              "Skew:                          -0.260   Prob(JB):                        0.834\n",
              "Kurtosis:                       2.828   Cond. No.                         315.\n",
              "==============================================================================\n",
              "\n",
              "Notes:\n",
              "[1] Standard Errors assume that the covariance matrix of the errors is correctly specified.\n",
              "\"\"\""
            ]
          },
          "execution_count": 9,
          "metadata": {},
          "output_type": "execute_result"
        }
      ],
      "source": [
        "model_heat_flux.summary()"
      ]
    },
    {
      "cell_type": "markdown",
      "metadata": {
        "id": "gUcPoA1GtaC4"
      },
      "source": [
        "# Prob 2.3"
      ]
    },
    {
      "cell_type": "code",
      "execution_count": 10,
      "metadata": {
        "colab": {
          "base_uri": "https://localhost:8080/"
        },
        "id": "NmnjIz3QtyEB",
        "outputId": "4d34cae7-81ed-4f39-b35a-8efc88d8137b"
      },
      "outputs": [
        {
          "data": {
            "text/plain": [
              "0   -28.509951\n",
              "1   -14.294965\n",
              "Name: x4, dtype: float64"
            ]
          },
          "execution_count": 10,
          "metadata": {},
          "output_type": "execute_result"
        }
      ],
      "source": [
        "# Extracting the 99% confidence interval for the slope (x4 coefficient)\n",
        "slope_ci_99 = model_heat_flux.conf_int(alpha=0.01).loc['x4']\n",
        "\n",
        "slope_ci_99"
      ]
    },
    {
      "cell_type": "markdown",
      "metadata": {
        "id": "LL2P0lWxtytZ"
      },
      "source": [
        "# Prob 2.4"
      ]
    },
    {
      "cell_type": "code",
      "execution_count": 11,
      "metadata": {
        "colab": {
          "base_uri": "https://localhost:8080/"
        },
        "id": "Demyz3mSt2wI",
        "outputId": "c45e5ce5-aa39-403c-b9eb-8b690c8dc6d5"
      },
      "outputs": [
        {
          "data": {
            "text/plain": [
              "0.7205241964067103"
            ]
          },
          "execution_count": 11,
          "metadata": {},
          "output_type": "execute_result"
        }
      ],
      "source": [
        "# Extracting the R^2 value from the model\n",
        "r_squared = model_heat_flux.rsquared\n",
        "\n",
        "r_squared"
      ]
    },
    {
      "cell_type": "markdown",
      "metadata": {
        "id": "ZIhTbmUqt-OZ"
      },
      "source": [
        "# Prob 2.5"
      ]
    },
    {
      "cell_type": "code",
      "execution_count": 12,
      "metadata": {
        "colab": {
          "base_uri": "https://localhost:8080/"
        },
        "id": "KAvlS2Mxt_xh",
        "outputId": "3a36fb0c-7ac5-4150-a225-44c28d47c8c9"
      },
      "outputs": [
        {
          "data": {
            "text/plain": [
              "array([[249.14675201, 258.77865527]])"
            ]
          },
          "execution_count": 12,
          "metadata": {},
          "output_type": "execute_result"
        }
      ],
      "source": [
        "# Predicting the mean heat flux for x4 = 16.5 with a 95% confidence interval\n",
        "prediction_heat_flux = model_heat_flux.get_prediction(exog=[[1, 16.5]])\n",
        "ci_mean_heat_flux = prediction_heat_flux.conf_int()\n",
        "\n",
        "ci_mean_heat_flux"
      ]
    }
  ],
  "metadata": {
    "colab": {
      "provenance": []
    },
    "kernelspec": {
      "display_name": "Python 3",
      "name": "python3"
    },
    "language_info": {
      "codemirror_mode": {
        "name": "ipython",
        "version": 3
      },
      "file_extension": ".py",
      "mimetype": "text/x-python",
      "name": "python",
      "nbconvert_exporter": "python",
      "pygments_lexer": "ipython3",
      "version": "3.11.6"
    }
  },
  "nbformat": 4,
  "nbformat_minor": 0
}
